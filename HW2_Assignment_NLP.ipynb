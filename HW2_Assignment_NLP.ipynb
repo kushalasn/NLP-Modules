{
  "cells": [
    {
      "cell_type": "markdown",
      "metadata": {
        "id": "3cfCXWzzuZKE"
      },
      "source": [
        "# <font color = 'pickle'>**HW - Pre-processing/Feature Engineering - 10 Points**\n",
        "- **You have to submit two files for this part of the HW (1) ipynb (colab notebook) and (2) pdf file.**\n",
        "-  **You can use spacy and/or regular expressions for this notebook.**"
      ]
    },
    {
      "cell_type": "code",
      "source": [
        "import pandas as pd\n",
        "import numpy as np \n",
        "import zipfile           \n",
        "import tarfile\n",
        "from pathlib import Path   "
      ],
      "metadata": {
        "id": "CFJx1VmykezE"
      },
      "execution_count": 18,
      "outputs": []
    },
    {
      "cell_type": "code",
      "source": [
        "from google.colab import drive \n",
        "drive.mount('/content/drive')   \n",
        "\n"
      ],
      "metadata": {
        "colab": {
          "base_uri": "https://localhost:8080/"
        },
        "id": "jgrAk1u7kevO",
        "outputId": "917048c6-f404-484c-beaf-d8cb3115cee0"
      },
      "execution_count": 19,
      "outputs": [
        {
          "output_type": "stream",
          "name": "stdout",
          "text": [
            "Drive already mounted at /content/drive; to attempt to forcibly remount, call drive.mount(\"/content/drive\", force_remount=True).\n"
          ]
        }
      ]
    },
    {
      "cell_type": "code",
      "source": [
        "#base_path = r'/content/drive/MyDrive/NLP'\n",
        "base_path=r'/content/drive/MyDrive/NLP/data' \n",
        "base_folder = Path(base_path) \n",
        "archive_folder=r'/content/drive/MyDrive/NLP/data/archive'"
      ],
      "metadata": {
        "id": "re7ZOpSckeoB"
      },
      "execution_count": 20,
      "outputs": []
    },
    {
      "cell_type": "code",
      "source": [
        "Path.cwd()          "
      ],
      "metadata": {
        "colab": {
          "base_uri": "https://localhost:8080/"
        },
        "id": "zocWeeZskndC",
        "outputId": "ccf4ceb6-b569-4327-cba3-2e419f26cf9b"
      },
      "execution_count": 21,
      "outputs": [
        {
          "output_type": "execute_result",
          "data": {
            "text/plain": [
              "PosixPath('/content')"
            ]
          },
          "metadata": {},
          "execution_count": 21
        }
      ]
    },
    {
      "cell_type": "code",
      "source": [
        "file = base_folder/'scale_whole_review.zip'\n",
        "URL = 'https://www.cs.cornell.edu/people/pabo/movie-review-data/scale_whole_review.tar.gz'\n",
        "\n",
        "# CODE HERE\n",
        "\n",
        "!wget {URL} -P {archive_folder}   "
      ],
      "metadata": {
        "colab": {
          "base_uri": "https://localhost:8080/"
        },
        "id": "UZE9zFQrknZ8",
        "outputId": "b00f92c2-c9ee-463a-b4db-7fabc4f8cbe4"
      },
      "execution_count": 24,
      "outputs": [
        {
          "output_type": "stream",
          "name": "stdout",
          "text": [
            "--2022-09-11 03:10:40--  https://www.cs.cornell.edu/people/pabo/movie-review-data/scale_whole_review.tar.gz\n",
            "Resolving www.cs.cornell.edu (www.cs.cornell.edu)... 132.236.207.36\n",
            "Connecting to www.cs.cornell.edu (www.cs.cornell.edu)|132.236.207.36|:443... connected.\n",
            "HTTP request sent, awaiting response... 200 OK\n",
            "Length: 8853204 (8.4M) [application/x-gzip]\n",
            "Saving to: ‘/content/drive/MyDrive/NLP/data/archive/scale_whole_review.tar.gz.24’\n",
            "\n",
            "scale_whole_review. 100%[===================>]   8.44M  22.5MB/s    in 0.4s    \n",
            "\n",
            "2022-09-11 03:10:41 (22.5 MB/s) - ‘/content/drive/MyDrive/NLP/data/archive/scale_whole_review.tar.gz.24’ saved [8853204/8853204]\n",
            "\n"
          ]
        }
      ]
    },
    {
      "cell_type": "code",
      "source": [
        "# for entries in archive_folder.iterdir():\n",
        "#   if 'gz' in entries.name:\n",
        "#     print(entries.name) "
      ],
      "metadata": {
        "id": "2PI13gbIknV2"
      },
      "execution_count": 31,
      "outputs": []
    },
    {
      "cell_type": "code",
      "source": [
        "\n",
        "# file = archive_folder / 'scale_whole_review.tar.gz'\n",
        "# with  tarfile.open(file, 'r') as tar:\n",
        "#   tar.extractall(path = '/content/drive/MyDrive/NLP/data/datasets')\n",
        "\n"
      ],
      "metadata": {
        "id": "DfcCxT1KknS0"
      },
      "execution_count": 32,
      "outputs": []
    },
    {
      "cell_type": "code",
      "source": [
        "# data_folder=\"/content/drive/MyDrive/NLP/data/datasets\"\n",
        "\n",
        "\n",
        "\n",
        "base_path = '/content/drive/MyDrive/NLP/data'\n",
        "\n",
        "base_folder = Path(base_path)\n",
        "\n",
        "archive_folder = base_folder/'archive'\n",
        "\n",
        "data_folder = base_folder/'datasets'"
      ],
      "metadata": {
        "id": "5lsbJ6g4srfK"
      },
      "execution_count": 33,
      "outputs": []
    },
    {
      "cell_type": "code",
      "source": [
        "for entries in (data_folder/'scale_whole_review').iterdir():\n",
        "  print(entries.name)"
      ],
      "metadata": {
        "colab": {
          "base_uri": "https://localhost:8080/"
        },
        "id": "oM4gmKLSknPq",
        "outputId": "3b592e35-b737-4172-91b9-9969bc99ce07"
      },
      "execution_count": 28,
      "outputs": [
        {
          "output_type": "stream",
          "name": "stdout",
          "text": [
            "Steve+Rhodes\n",
            "Scott+Renshaw\n",
            "James+Berardinelli\n",
            "Dennis+Schwartz\n"
          ]
        }
      ]
    },
    {
      "cell_type": "code",
      "source": [
        "i = 0\n",
        "for entries in (data_folder/'scale_whole_review'/'Dennis+Schwartz').iterdir():\n",
        "  print(entries.name)\n",
        "  i+= 1\n",
        "  if i >10:\n",
        "    break"
      ],
      "metadata": {
        "colab": {
          "base_uri": "https://localhost:8080/"
        },
        "id": "Oe9pgfDvhPwS",
        "outputId": "bb4ab918-d5ff-429c-88b6-80cdb6d4de9c"
      },
      "execution_count": 29,
      "outputs": [
        {
          "output_type": "stream",
          "name": "stdout",
          "text": [
            "txt.parag\n"
          ]
        }
      ]
    },
    {
      "cell_type": "code",
      "source": [
        "i = 0\n",
        "for entries in (data_folder/'scale_whole_review'/'Dennis+Schwartz'/'txt.parag').iterdir():\n",
        "  print(entries.name)\n",
        "  i+= 1\n",
        "  if i >10:\n",
        "    break"
      ],
      "metadata": {
        "colab": {
          "base_uri": "https://localhost:8080/"
        },
        "id": "M204cKtPtjgY",
        "outputId": "98573ca5-8245-4d86-b225-0af4b0f828e8"
      },
      "execution_count": 30,
      "outputs": [
        {
          "output_type": "stream",
          "name": "stdout",
          "text": [
            "17391.txt\n",
            "17398.txt\n",
            "17399.txt\n",
            "17457.txt\n",
            "17460.txt\n",
            "17447.txt\n",
            "17430.txt\n",
            "17431.txt\n",
            "17501.txt\n",
            "17518.txt\n",
            "17532.txt\n"
          ]
        }
      ]
    },
    {
      "cell_type": "code",
      "source": [
        "!head {data_folder/'scale_whole_review'/'Dennis+Schwartz'/'txt.parag'/'16748.txt'} -n 5"
      ],
      "metadata": {
        "colab": {
          "base_uri": "https://localhost:8080/"
        },
        "id": "s39x1NsYhPtg",
        "outputId": "a543cf1d-e992-40cd-cba4-3ffb3a3b4aaf"
      },
      "execution_count": 34,
      "outputs": [
        {
          "output_type": "stream",
          "name": "stdout",
          "text": [
            "DENNIS SCHWARTZ \"Movie Reviews and Poetry\"\n",
            "UNMADE BEDS (director: Nicholas Barker; cast: Brenda Monte, Michael De Stephano, Aimee Copp, Mikey Russo, 1997)\n",
            "Whether the story is entirely true or in some parts made up, as the director stated it is, is unimportant; the film covers the intriguing subject matter of how four single New Yorkers exist for a period of nine months, featuring the real lives of two female and two male actors who play themselves, concerned with getting older and still being single. Their single scene is provocatively portrayed as being sad and luridly comical. It is a film that highlights the problems that can be found in urban areas across America, as we bear witness to the plight of these singles trying to search for a mate through the internet and the personals, faced with agonizing loneliness and unresolved psychological problems. That these four are not particularly people that I can readily sympathize with, does not alter the fact that this is a very human story being told, one that has many implications on our culture, relating how alienated a people so many of us have become in this modern world.\n",
            "The result is an interesting and stylized docudrama, a \"Rear Window\" for singles. The film imitates those famous apartment windows Jimmy Stewart looked into for that 1950s look at New York City. This time it is not a crime that we see, but is a voyeurist's delight, and there is something that seems to excite us when we sneak a look at what someone does in the privacy of their own home, as if we are seeing something about them that we shouldn't see. But it is the four singles who remain the focus of the film, which is really not a documentary, except in its style.\n",
            "Brenda Monte is Italian, she does not care for Jewish men and will not even consider dating them because she does not find them attractive, she is most proud of her big breasts, has a 20-year-old daughter from a previously failed marriage, and she tells us she receives no child support for her. This could be a personal ad about her, if it also included that she wants a guy not for sex or love(she can have sex whenever she wants to), but for monetary reasons. She wants to work out some deal with a guy where they come to some arrangement satisfactory to both of them, but she must get money for it, and it should be clear that she is not a prostitute. Her vulgar story is interspliced with the three other stories, but there is no connecting links to the others.\n"
          ]
        }
      ]
    },
    {
      "cell_type": "code",
      "source": [
        "def combine_reviews(path):\n",
        "  reviews = []\n",
        "\n",
        "  # We use the below command to read all the text files in the  directory and store in our positive_reviews list.\n",
        "  for file in path.iterdir():\n",
        "    # check if the file is a text file\n",
        "    if file.suffix == '.txt':\n",
        "      # We can open files and read or write their contents using open() function\n",
        "      # The files are opened in read-only mode for reading content\n",
        "      with open(path/file,'r',encoding ='ISO-8859-1') as f:\n",
        "        # We store our text from the files into the positive_reviews list as an element in our list\n",
        "        text = f.read()\n",
        "        # append the review to the list\n",
        "        reviews.append(text)\n",
        "  return reviews"
      ],
      "metadata": {
        "id": "F0B6phiAjsv1"
      },
      "execution_count": 35,
      "outputs": []
    },
    {
      "cell_type": "code",
      "source": [
        "path_den = data_folder/'scale_whole_review'/'Dennis+Schwartz'/'txt.parag'\n",
        "path_jam = data_folder/'scale_whole_review'/'James+Berardinelli'/'txt.parag'\n",
        "path_sco = data_folder/'scale_whole_review'/'Scott+Renshaw'/'txt.parag'\n",
        "path_stev= data_folder/'scale_whole_review'/'Steve+Rhodes'/'txt.parag'\n",
        "\n",
        "dennis_reviews = combine_reviews(path_den)\n",
        "james_reviews = combine_reviews(path_jam)\n",
        "scott_reviews = combine_reviews(path_sco)\n",
        "steve_reviews = combine_reviews(path_stev)"
      ],
      "metadata": {
        "id": "k-z5ca-Ut_oc"
      },
      "execution_count": 36,
      "outputs": []
    },
    {
      "cell_type": "markdown",
      "source": [],
      "metadata": {
        "id": "11zq78OBjJrJ"
      }
    },
    {
      "cell_type": "code",
      "source": [
        "len_dennis = ['Dennis+Schwartz'] * len(dennis_reviews)\n",
        "len_james = ['James+Berardinelli'] * len(james_reviews)\n",
        "len_scott = ['Scott+Renshaw'] * len(scott_reviews)\n",
        "len_steve = ['Steve+Rhodes'] * len(steve_reviews)"
      ],
      "metadata": {
        "id": "QlOJd9llt_Ub"
      },
      "execution_count": 37,
      "outputs": []
    },
    {
      "cell_type": "code",
      "source": [
        "len_dennis.extend(len_james)\n",
        "len_dennis.extend(len_scott)\n",
        "len_dennis.extend(len_steve)"
      ],
      "metadata": {
        "id": "WNNCEZisvZQU"
      },
      "execution_count": 38,
      "outputs": []
    },
    {
      "cell_type": "code",
      "source": [
        "final_dataframe = pd.DataFrame({'Movie Reviews':dennis_reviews + james_reviews + scott_reviews + steve_reviews,\n",
        "\n",
        "                                'Reviewer Name':len_dennis\n",
        "\n",
        "                                                     })"
      ],
      "metadata": {
        "id": "bHHyOocNvZDV"
      },
      "execution_count": 39,
      "outputs": []
    },
    {
      "cell_type": "code",
      "source": [
        "final_dataframe"
      ],
      "metadata": {
        "colab": {
          "base_uri": "https://localhost:8080/",
          "height": 424
        },
        "id": "-ipOyzjqv2di",
        "outputId": "8aae72f1-112b-4d70-ac1d-9b0a7667f0eb"
      },
      "execution_count": 40,
      "outputs": [
        {
          "output_type": "execute_result",
          "data": {
            "text/plain": [
              "                                          Movie Reviews    Reviewer Name\n",
              "0     OUT OF SIGHT (director:Steven Soderbergh; cast...  Dennis+Schwartz\n",
              "1     DARK CITY (director: Alex Proyas; cast: Rufus ...  Dennis+Schwartz\n",
              "2     PI (director: Darren Aronofsky; cast: Sean Gul...  Dennis+Schwartz\n",
              "3     HENRY FOOL (director: Hal Hartley; cast: Thoma...  Dennis+Schwartz\n",
              "4     THE GOVERNESS (director: Sandra Goldbacher; ca...  Dennis+Schwartz\n",
              "...                                                 ...              ...\n",
              "5001  TV director Danny Leiner's DUDE, WHERE'S MY CA...     Steve+Rhodes\n",
              "5002  Watching A HARD DAY'S NIGHT from 1964, now in ...     Steve+Rhodes\n",
              "5003  After missing its 25th anniversary a couple of...     Steve+Rhodes\n",
              "5004  Steven Brill's LITTLE NICKY, starring box offi...     Steve+Rhodes\n",
              "5005  Even if WES CRAVEN PRESENTS DRACULA 2000 -- wh...     Steve+Rhodes\n",
              "\n",
              "[5006 rows x 2 columns]"
            ],
            "text/html": [
              "\n",
              "  <div id=\"df-f99c3df7-70a7-4aec-a218-6384f7bbbd89\">\n",
              "    <div class=\"colab-df-container\">\n",
              "      <div>\n",
              "<style scoped>\n",
              "    .dataframe tbody tr th:only-of-type {\n",
              "        vertical-align: middle;\n",
              "    }\n",
              "\n",
              "    .dataframe tbody tr th {\n",
              "        vertical-align: top;\n",
              "    }\n",
              "\n",
              "    .dataframe thead th {\n",
              "        text-align: right;\n",
              "    }\n",
              "</style>\n",
              "<table border=\"1\" class=\"dataframe\">\n",
              "  <thead>\n",
              "    <tr style=\"text-align: right;\">\n",
              "      <th></th>\n",
              "      <th>Movie Reviews</th>\n",
              "      <th>Reviewer Name</th>\n",
              "    </tr>\n",
              "  </thead>\n",
              "  <tbody>\n",
              "    <tr>\n",
              "      <th>0</th>\n",
              "      <td>OUT OF SIGHT (director:Steven Soderbergh; cast...</td>\n",
              "      <td>Dennis+Schwartz</td>\n",
              "    </tr>\n",
              "    <tr>\n",
              "      <th>1</th>\n",
              "      <td>DARK CITY (director: Alex Proyas; cast: Rufus ...</td>\n",
              "      <td>Dennis+Schwartz</td>\n",
              "    </tr>\n",
              "    <tr>\n",
              "      <th>2</th>\n",
              "      <td>PI (director: Darren Aronofsky; cast: Sean Gul...</td>\n",
              "      <td>Dennis+Schwartz</td>\n",
              "    </tr>\n",
              "    <tr>\n",
              "      <th>3</th>\n",
              "      <td>HENRY FOOL (director: Hal Hartley; cast: Thoma...</td>\n",
              "      <td>Dennis+Schwartz</td>\n",
              "    </tr>\n",
              "    <tr>\n",
              "      <th>4</th>\n",
              "      <td>THE GOVERNESS (director: Sandra Goldbacher; ca...</td>\n",
              "      <td>Dennis+Schwartz</td>\n",
              "    </tr>\n",
              "    <tr>\n",
              "      <th>...</th>\n",
              "      <td>...</td>\n",
              "      <td>...</td>\n",
              "    </tr>\n",
              "    <tr>\n",
              "      <th>5001</th>\n",
              "      <td>TV director Danny Leiner's DUDE, WHERE'S MY CA...</td>\n",
              "      <td>Steve+Rhodes</td>\n",
              "    </tr>\n",
              "    <tr>\n",
              "      <th>5002</th>\n",
              "      <td>Watching A HARD DAY'S NIGHT from 1964, now in ...</td>\n",
              "      <td>Steve+Rhodes</td>\n",
              "    </tr>\n",
              "    <tr>\n",
              "      <th>5003</th>\n",
              "      <td>After missing its 25th anniversary a couple of...</td>\n",
              "      <td>Steve+Rhodes</td>\n",
              "    </tr>\n",
              "    <tr>\n",
              "      <th>5004</th>\n",
              "      <td>Steven Brill's LITTLE NICKY, starring box offi...</td>\n",
              "      <td>Steve+Rhodes</td>\n",
              "    </tr>\n",
              "    <tr>\n",
              "      <th>5005</th>\n",
              "      <td>Even if WES CRAVEN PRESENTS DRACULA 2000 -- wh...</td>\n",
              "      <td>Steve+Rhodes</td>\n",
              "    </tr>\n",
              "  </tbody>\n",
              "</table>\n",
              "<p>5006 rows × 2 columns</p>\n",
              "</div>\n",
              "      <button class=\"colab-df-convert\" onclick=\"convertToInteractive('df-f99c3df7-70a7-4aec-a218-6384f7bbbd89')\"\n",
              "              title=\"Convert this dataframe to an interactive table.\"\n",
              "              style=\"display:none;\">\n",
              "        \n",
              "  <svg xmlns=\"http://www.w3.org/2000/svg\" height=\"24px\"viewBox=\"0 0 24 24\"\n",
              "       width=\"24px\">\n",
              "    <path d=\"M0 0h24v24H0V0z\" fill=\"none\"/>\n",
              "    <path d=\"M18.56 5.44l.94 2.06.94-2.06 2.06-.94-2.06-.94-.94-2.06-.94 2.06-2.06.94zm-11 1L8.5 8.5l.94-2.06 2.06-.94-2.06-.94L8.5 2.5l-.94 2.06-2.06.94zm10 10l.94 2.06.94-2.06 2.06-.94-2.06-.94-.94-2.06-.94 2.06-2.06.94z\"/><path d=\"M17.41 7.96l-1.37-1.37c-.4-.4-.92-.59-1.43-.59-.52 0-1.04.2-1.43.59L10.3 9.45l-7.72 7.72c-.78.78-.78 2.05 0 2.83L4 21.41c.39.39.9.59 1.41.59.51 0 1.02-.2 1.41-.59l7.78-7.78 2.81-2.81c.8-.78.8-2.07 0-2.86zM5.41 20L4 18.59l7.72-7.72 1.47 1.35L5.41 20z\"/>\n",
              "  </svg>\n",
              "      </button>\n",
              "      \n",
              "  <style>\n",
              "    .colab-df-container {\n",
              "      display:flex;\n",
              "      flex-wrap:wrap;\n",
              "      gap: 12px;\n",
              "    }\n",
              "\n",
              "    .colab-df-convert {\n",
              "      background-color: #E8F0FE;\n",
              "      border: none;\n",
              "      border-radius: 50%;\n",
              "      cursor: pointer;\n",
              "      display: none;\n",
              "      fill: #1967D2;\n",
              "      height: 32px;\n",
              "      padding: 0 0 0 0;\n",
              "      width: 32px;\n",
              "    }\n",
              "\n",
              "    .colab-df-convert:hover {\n",
              "      background-color: #E2EBFA;\n",
              "      box-shadow: 0px 1px 2px rgba(60, 64, 67, 0.3), 0px 1px 3px 1px rgba(60, 64, 67, 0.15);\n",
              "      fill: #174EA6;\n",
              "    }\n",
              "\n",
              "    [theme=dark] .colab-df-convert {\n",
              "      background-color: #3B4455;\n",
              "      fill: #D2E3FC;\n",
              "    }\n",
              "\n",
              "    [theme=dark] .colab-df-convert:hover {\n",
              "      background-color: #434B5C;\n",
              "      box-shadow: 0px 1px 3px 1px rgba(0, 0, 0, 0.15);\n",
              "      filter: drop-shadow(0px 1px 2px rgba(0, 0, 0, 0.3));\n",
              "      fill: #FFFFFF;\n",
              "    }\n",
              "  </style>\n",
              "\n",
              "      <script>\n",
              "        const buttonEl =\n",
              "          document.querySelector('#df-f99c3df7-70a7-4aec-a218-6384f7bbbd89 button.colab-df-convert');\n",
              "        buttonEl.style.display =\n",
              "          google.colab.kernel.accessAllowed ? 'block' : 'none';\n",
              "\n",
              "        async function convertToInteractive(key) {\n",
              "          const element = document.querySelector('#df-f99c3df7-70a7-4aec-a218-6384f7bbbd89');\n",
              "          const dataTable =\n",
              "            await google.colab.kernel.invokeFunction('convertToInteractive',\n",
              "                                                     [key], {});\n",
              "          if (!dataTable) return;\n",
              "\n",
              "          const docLinkHtml = 'Like what you see? Visit the ' +\n",
              "            '<a target=\"_blank\" href=https://colab.research.google.com/notebooks/data_table.ipynb>data table notebook</a>'\n",
              "            + ' to learn more about interactive tables.';\n",
              "          element.innerHTML = '';\n",
              "          dataTable['output_type'] = 'display_data';\n",
              "          await google.colab.output.renderOutput(dataTable, element);\n",
              "          const docLink = document.createElement('div');\n",
              "          docLink.innerHTML = docLinkHtml;\n",
              "          element.appendChild(docLink);\n",
              "        }\n",
              "      </script>\n",
              "    </div>\n",
              "  </div>\n",
              "  "
            ]
          },
          "metadata": {},
          "execution_count": 40
        }
      ]
    },
    {
      "cell_type": "code",
      "source": [],
      "metadata": {
        "id": "UTeynNDcjsf8"
      },
      "execution_count": null,
      "outputs": []
    },
    {
      "cell_type": "code",
      "source": [],
      "metadata": {
        "id": "B3DPs9jNjsct"
      },
      "execution_count": null,
      "outputs": []
    },
    {
      "cell_type": "code",
      "source": [],
      "metadata": {
        "id": "OrqLuUm2jsZ8"
      },
      "execution_count": null,
      "outputs": []
    },
    {
      "cell_type": "code",
      "source": [],
      "metadata": {
        "id": "pxBZTGZGjsW1"
      },
      "execution_count": null,
      "outputs": []
    },
    {
      "cell_type": "code",
      "source": [],
      "metadata": {
        "id": "HjdU2muwjsUH"
      },
      "execution_count": null,
      "outputs": []
    },
    {
      "cell_type": "code",
      "source": [],
      "metadata": {
        "id": "p0p5aUgHjsRG"
      },
      "execution_count": null,
      "outputs": []
    },
    {
      "cell_type": "code",
      "source": [],
      "metadata": {
        "id": "uBD6QGLUjsN8"
      },
      "execution_count": null,
      "outputs": []
    },
    {
      "cell_type": "markdown",
      "metadata": {
        "id": "rh2s542civAU"
      },
      "source": [
        "\n",
        "# <font color ='pickle'> **Task1: Download data and combine data from multiple files into a single dataframe - 2 Points.**\n",
        "\n",
        "In this task you have to download the moview reviews from the following link:\n",
        "https://www.cs.cornell.edu/people/pabo/movie-review-data/scale_whole_review.tar.gz\n",
        "<br>\n",
        "\n",
        "**Instructions:** <br>\n",
        "\n",
        "- The data has movie reviews from four different reviewers: \n",
        "(1) Dennis+Schwartz,  (2) James+Berardinelli, (3) Scott+Renshaw and (4) Steve+Rhodes.\n",
        "\n",
        "- You have to extract the reviews of  the four reviewers in a single dataframe.\n",
        "- The final dataframe should have two columns (1) Moview Review and (2) Reviewer Name.\n"
      ]
    },
    {
      "cell_type": "code",
      "source": [
        "from google.colab import drive\n",
        "drive.mount('/content/drive') "
      ],
      "metadata": {
        "colab": {
          "base_uri": "https://localhost:8080/"
        },
        "id": "BagMyCJ2qb8Y",
        "outputId": "16e9366f-634f-47ea-cfcc-f1d9b8f680f6"
      },
      "execution_count": 41,
      "outputs": [
        {
          "output_type": "stream",
          "name": "stdout",
          "text": [
            "Drive already mounted at /content/drive; to attempt to forcibly remount, call drive.mount(\"/content/drive\", force_remount=True).\n"
          ]
        }
      ]
    },
    {
      "cell_type": "code",
      "source": [
        "import pandas as pd\n",
        "import numpy as np \n",
        "import zipfile           \n",
        "import tarfile\n",
        "from pathlib import Path   "
      ],
      "metadata": {
        "id": "6V2_UFWHlqyr"
      },
      "execution_count": 42,
      "outputs": []
    },
    {
      "cell_type": "code",
      "source": [
        "from google.colab import drive \n",
        "drive.mount('/content/drive')   \n",
        "\n"
      ],
      "metadata": {
        "colab": {
          "base_uri": "https://localhost:8080/"
        },
        "id": "AB97krY9lsHz",
        "outputId": "576a299f-9707-4b9a-b13d-a3004e2fa79a"
      },
      "execution_count": 43,
      "outputs": [
        {
          "output_type": "stream",
          "name": "stdout",
          "text": [
            "Drive already mounted at /content/drive; to attempt to forcibly remount, call drive.mount(\"/content/drive\", force_remount=True).\n"
          ]
        }
      ]
    },
    {
      "cell_type": "code",
      "source": [
        "#base_path = r'/content/drive/MyDrive/NLP'\n",
        "base_path=r'/content/drive/MyDrive/NLP/data' \n",
        "base_folder = Path(base_path) \n",
        "archive_folder=r'/content/drive/MyDrive/NLP/data/archive'"
      ],
      "metadata": {
        "id": "acuBoGITi1ET"
      },
      "execution_count": 44,
      "outputs": []
    },
    {
      "cell_type": "code",
      "source": [
        "Path.cwd()          "
      ],
      "metadata": {
        "colab": {
          "base_uri": "https://localhost:8080/"
        },
        "id": "A_F2hjt3i1Ay",
        "outputId": "544accb2-e37a-4816-e246-afe5c0e3a34a"
      },
      "execution_count": 45,
      "outputs": [
        {
          "output_type": "execute_result",
          "data": {
            "text/plain": [
              "PosixPath('/content')"
            ]
          },
          "metadata": {},
          "execution_count": 45
        }
      ]
    },
    {
      "cell_type": "code",
      "source": [
        "file = base_folder/'scale_whole_review.zip'\n",
        "URL = 'https://www.cs.cornell.edu/people/pabo/movie-review-data/scale_whole_review.tar.gz'\n",
        "\n",
        "# CODE HERE\n",
        "\n",
        "!wget {URL} -P {archive_folder}   "
      ],
      "metadata": {
        "colab": {
          "base_uri": "https://localhost:8080/"
        },
        "id": "34OMpnS-i09_",
        "outputId": "a5eb669f-563d-4048-9b15-91b14d1139cf"
      },
      "execution_count": 46,
      "outputs": [
        {
          "output_type": "stream",
          "name": "stdout",
          "text": [
            "--2022-09-11 03:17:52--  https://www.cs.cornell.edu/people/pabo/movie-review-data/scale_whole_review.tar.gz\n",
            "Resolving www.cs.cornell.edu (www.cs.cornell.edu)... 132.236.207.36\n",
            "Connecting to www.cs.cornell.edu (www.cs.cornell.edu)|132.236.207.36|:443... connected.\n",
            "HTTP request sent, awaiting response... 200 OK\n",
            "Length: 8853204 (8.4M) [application/x-gzip]\n",
            "Saving to: ‘/content/drive/MyDrive/NLP/data/archive/scale_whole_review.tar.gz.25’\n",
            "\n",
            "scale_whole_review. 100%[===================>]   8.44M  26.6MB/s    in 0.3s    \n",
            "\n",
            "2022-09-11 03:17:53 (26.6 MB/s) - ‘/content/drive/MyDrive/NLP/data/archive/scale_whole_review.tar.gz.25’ saved [8853204/8853204]\n",
            "\n"
          ]
        }
      ]
    },
    {
      "cell_type": "code",
      "source": [
        "# data_folder=\"/content/drive/MyDrive/NLP/data/datasets\"\n",
        "\n",
        "\n",
        "\n",
        "base_path = '/content/drive/MyDrive/NLP/data'\n",
        "\n",
        "base_folder = Path(base_path)\n",
        "\n",
        "archive_folder = base_folder/'archive'\n",
        "\n",
        "data_folder = base_folder/'datasets'"
      ],
      "metadata": {
        "id": "wU6eAr2gi-Lb"
      },
      "execution_count": 47,
      "outputs": []
    },
    {
      "cell_type": "code",
      "source": [
        "for entries in (data_folder/'scale_whole_review').iterdir():\n",
        "  print(entries.name)"
      ],
      "metadata": {
        "colab": {
          "base_uri": "https://localhost:8080/"
        },
        "id": "UTglIuGJi-IH",
        "outputId": "e4392774-6987-40a5-9b91-b99a8ef525e3"
      },
      "execution_count": 48,
      "outputs": [
        {
          "output_type": "stream",
          "name": "stdout",
          "text": [
            "Steve+Rhodes\n",
            "Scott+Renshaw\n",
            "James+Berardinelli\n",
            "Dennis+Schwartz\n"
          ]
        }
      ]
    },
    {
      "cell_type": "code",
      "source": [
        "def combine_reviews(path):\n",
        "  reviews = []\n",
        "\n",
        "  # We use the below command to read all the text files in the  directory and store in our positive_reviews list.\n",
        "  for file in path.iterdir():\n",
        "    # check if the file is a text file\n",
        "    if file.suffix == '.txt':\n",
        "      # We can open files and read or write their contents using open() function\n",
        "      # The files are opened in read-only mode for reading content\n",
        "      with open(path/file,'r',encoding ='ISO-8859-1') as f:\n",
        "        # We store our text from the files into the positive_reviews list as an element in our list\n",
        "        text = f.read()\n",
        "        # append the review to the list\n",
        "        reviews.append(text)\n",
        "  return reviews"
      ],
      "metadata": {
        "id": "24rceHHli-EZ"
      },
      "execution_count": 49,
      "outputs": []
    },
    {
      "cell_type": "code",
      "source": [
        "path_den = data_folder/'scale_whole_review'/'Dennis+Schwartz'/'txt.parag'\n",
        "path_jam = data_folder/'scale_whole_review'/'James+Berardinelli'/'txt.parag'\n",
        "path_sco = data_folder/'scale_whole_review'/'Scott+Renshaw'/'txt.parag'\n",
        "path_stev= data_folder/'scale_whole_review'/'Steve+Rhodes'/'txt.parag'\n",
        "\n",
        "dennis_reviews = combine_reviews(path_den)\n",
        "james_reviews = combine_reviews(path_jam)\n",
        "scott_reviews = combine_reviews(path_sco)\n",
        "steve_reviews = combine_reviews(path_stev)"
      ],
      "metadata": {
        "id": "2wMwz6C8i-Ba"
      },
      "execution_count": 50,
      "outputs": []
    },
    {
      "cell_type": "code",
      "source": [
        "len_dennis = ['Dennis+Schwartz'] * len(dennis_reviews)\n",
        "len_james = ['James+Berardinelli'] * len(james_reviews)\n",
        "len_scott = ['Scott+Renshaw'] * len(scott_reviews)\n",
        "len_steve = ['Steve+Rhodes'] * len(steve_reviews)"
      ],
      "metadata": {
        "id": "B-nUni6Fi061"
      },
      "execution_count": 51,
      "outputs": []
    },
    {
      "cell_type": "code",
      "source": [
        "len_dennis.extend(len_james)\n",
        "len_dennis.extend(len_scott)\n",
        "len_dennis.extend(len_steve)"
      ],
      "metadata": {
        "id": "iyIZ9sy_i04D"
      },
      "execution_count": 52,
      "outputs": []
    },
    {
      "cell_type": "code",
      "source": [
        "final_dataframe = pd.DataFrame({'Movie Reviews':dennis_reviews + james_reviews + scott_reviews + steve_reviews,\n",
        "\n",
        "                                'Reviewer Name':len_dennis\n",
        "\n",
        "                                                     })"
      ],
      "metadata": {
        "id": "7VueUQgdi01Q"
      },
      "execution_count": 53,
      "outputs": []
    },
    {
      "cell_type": "code",
      "source": [
        "final_dataframe"
      ],
      "metadata": {
        "colab": {
          "base_uri": "https://localhost:8080/",
          "height": 424
        },
        "id": "GXEh7yexjWNZ",
        "outputId": "e8955b02-a06d-473d-e796-b363b32233ea"
      },
      "execution_count": 54,
      "outputs": [
        {
          "output_type": "execute_result",
          "data": {
            "text/plain": [
              "                                          Movie Reviews    Reviewer Name\n",
              "0     OUT OF SIGHT (director:Steven Soderbergh; cast...  Dennis+Schwartz\n",
              "1     DARK CITY (director: Alex Proyas; cast: Rufus ...  Dennis+Schwartz\n",
              "2     PI (director: Darren Aronofsky; cast: Sean Gul...  Dennis+Schwartz\n",
              "3     HENRY FOOL (director: Hal Hartley; cast: Thoma...  Dennis+Schwartz\n",
              "4     THE GOVERNESS (director: Sandra Goldbacher; ca...  Dennis+Schwartz\n",
              "...                                                 ...              ...\n",
              "5001  TV director Danny Leiner's DUDE, WHERE'S MY CA...     Steve+Rhodes\n",
              "5002  Watching A HARD DAY'S NIGHT from 1964, now in ...     Steve+Rhodes\n",
              "5003  After missing its 25th anniversary a couple of...     Steve+Rhodes\n",
              "5004  Steven Brill's LITTLE NICKY, starring box offi...     Steve+Rhodes\n",
              "5005  Even if WES CRAVEN PRESENTS DRACULA 2000 -- wh...     Steve+Rhodes\n",
              "\n",
              "[5006 rows x 2 columns]"
            ],
            "text/html": [
              "\n",
              "  <div id=\"df-c9631393-d9b0-43dd-bd58-24ac5d95fc8e\">\n",
              "    <div class=\"colab-df-container\">\n",
              "      <div>\n",
              "<style scoped>\n",
              "    .dataframe tbody tr th:only-of-type {\n",
              "        vertical-align: middle;\n",
              "    }\n",
              "\n",
              "    .dataframe tbody tr th {\n",
              "        vertical-align: top;\n",
              "    }\n",
              "\n",
              "    .dataframe thead th {\n",
              "        text-align: right;\n",
              "    }\n",
              "</style>\n",
              "<table border=\"1\" class=\"dataframe\">\n",
              "  <thead>\n",
              "    <tr style=\"text-align: right;\">\n",
              "      <th></th>\n",
              "      <th>Movie Reviews</th>\n",
              "      <th>Reviewer Name</th>\n",
              "    </tr>\n",
              "  </thead>\n",
              "  <tbody>\n",
              "    <tr>\n",
              "      <th>0</th>\n",
              "      <td>OUT OF SIGHT (director:Steven Soderbergh; cast...</td>\n",
              "      <td>Dennis+Schwartz</td>\n",
              "    </tr>\n",
              "    <tr>\n",
              "      <th>1</th>\n",
              "      <td>DARK CITY (director: Alex Proyas; cast: Rufus ...</td>\n",
              "      <td>Dennis+Schwartz</td>\n",
              "    </tr>\n",
              "    <tr>\n",
              "      <th>2</th>\n",
              "      <td>PI (director: Darren Aronofsky; cast: Sean Gul...</td>\n",
              "      <td>Dennis+Schwartz</td>\n",
              "    </tr>\n",
              "    <tr>\n",
              "      <th>3</th>\n",
              "      <td>HENRY FOOL (director: Hal Hartley; cast: Thoma...</td>\n",
              "      <td>Dennis+Schwartz</td>\n",
              "    </tr>\n",
              "    <tr>\n",
              "      <th>4</th>\n",
              "      <td>THE GOVERNESS (director: Sandra Goldbacher; ca...</td>\n",
              "      <td>Dennis+Schwartz</td>\n",
              "    </tr>\n",
              "    <tr>\n",
              "      <th>...</th>\n",
              "      <td>...</td>\n",
              "      <td>...</td>\n",
              "    </tr>\n",
              "    <tr>\n",
              "      <th>5001</th>\n",
              "      <td>TV director Danny Leiner's DUDE, WHERE'S MY CA...</td>\n",
              "      <td>Steve+Rhodes</td>\n",
              "    </tr>\n",
              "    <tr>\n",
              "      <th>5002</th>\n",
              "      <td>Watching A HARD DAY'S NIGHT from 1964, now in ...</td>\n",
              "      <td>Steve+Rhodes</td>\n",
              "    </tr>\n",
              "    <tr>\n",
              "      <th>5003</th>\n",
              "      <td>After missing its 25th anniversary a couple of...</td>\n",
              "      <td>Steve+Rhodes</td>\n",
              "    </tr>\n",
              "    <tr>\n",
              "      <th>5004</th>\n",
              "      <td>Steven Brill's LITTLE NICKY, starring box offi...</td>\n",
              "      <td>Steve+Rhodes</td>\n",
              "    </tr>\n",
              "    <tr>\n",
              "      <th>5005</th>\n",
              "      <td>Even if WES CRAVEN PRESENTS DRACULA 2000 -- wh...</td>\n",
              "      <td>Steve+Rhodes</td>\n",
              "    </tr>\n",
              "  </tbody>\n",
              "</table>\n",
              "<p>5006 rows × 2 columns</p>\n",
              "</div>\n",
              "      <button class=\"colab-df-convert\" onclick=\"convertToInteractive('df-c9631393-d9b0-43dd-bd58-24ac5d95fc8e')\"\n",
              "              title=\"Convert this dataframe to an interactive table.\"\n",
              "              style=\"display:none;\">\n",
              "        \n",
              "  <svg xmlns=\"http://www.w3.org/2000/svg\" height=\"24px\"viewBox=\"0 0 24 24\"\n",
              "       width=\"24px\">\n",
              "    <path d=\"M0 0h24v24H0V0z\" fill=\"none\"/>\n",
              "    <path d=\"M18.56 5.44l.94 2.06.94-2.06 2.06-.94-2.06-.94-.94-2.06-.94 2.06-2.06.94zm-11 1L8.5 8.5l.94-2.06 2.06-.94-2.06-.94L8.5 2.5l-.94 2.06-2.06.94zm10 10l.94 2.06.94-2.06 2.06-.94-2.06-.94-.94-2.06-.94 2.06-2.06.94z\"/><path d=\"M17.41 7.96l-1.37-1.37c-.4-.4-.92-.59-1.43-.59-.52 0-1.04.2-1.43.59L10.3 9.45l-7.72 7.72c-.78.78-.78 2.05 0 2.83L4 21.41c.39.39.9.59 1.41.59.51 0 1.02-.2 1.41-.59l7.78-7.78 2.81-2.81c.8-.78.8-2.07 0-2.86zM5.41 20L4 18.59l7.72-7.72 1.47 1.35L5.41 20z\"/>\n",
              "  </svg>\n",
              "      </button>\n",
              "      \n",
              "  <style>\n",
              "    .colab-df-container {\n",
              "      display:flex;\n",
              "      flex-wrap:wrap;\n",
              "      gap: 12px;\n",
              "    }\n",
              "\n",
              "    .colab-df-convert {\n",
              "      background-color: #E8F0FE;\n",
              "      border: none;\n",
              "      border-radius: 50%;\n",
              "      cursor: pointer;\n",
              "      display: none;\n",
              "      fill: #1967D2;\n",
              "      height: 32px;\n",
              "      padding: 0 0 0 0;\n",
              "      width: 32px;\n",
              "    }\n",
              "\n",
              "    .colab-df-convert:hover {\n",
              "      background-color: #E2EBFA;\n",
              "      box-shadow: 0px 1px 2px rgba(60, 64, 67, 0.3), 0px 1px 3px 1px rgba(60, 64, 67, 0.15);\n",
              "      fill: #174EA6;\n",
              "    }\n",
              "\n",
              "    [theme=dark] .colab-df-convert {\n",
              "      background-color: #3B4455;\n",
              "      fill: #D2E3FC;\n",
              "    }\n",
              "\n",
              "    [theme=dark] .colab-df-convert:hover {\n",
              "      background-color: #434B5C;\n",
              "      box-shadow: 0px 1px 3px 1px rgba(0, 0, 0, 0.15);\n",
              "      filter: drop-shadow(0px 1px 2px rgba(0, 0, 0, 0.3));\n",
              "      fill: #FFFFFF;\n",
              "    }\n",
              "  </style>\n",
              "\n",
              "      <script>\n",
              "        const buttonEl =\n",
              "          document.querySelector('#df-c9631393-d9b0-43dd-bd58-24ac5d95fc8e button.colab-df-convert');\n",
              "        buttonEl.style.display =\n",
              "          google.colab.kernel.accessAllowed ? 'block' : 'none';\n",
              "\n",
              "        async function convertToInteractive(key) {\n",
              "          const element = document.querySelector('#df-c9631393-d9b0-43dd-bd58-24ac5d95fc8e');\n",
              "          const dataTable =\n",
              "            await google.colab.kernel.invokeFunction('convertToInteractive',\n",
              "                                                     [key], {});\n",
              "          if (!dataTable) return;\n",
              "\n",
              "          const docLinkHtml = 'Like what you see? Visit the ' +\n",
              "            '<a target=\"_blank\" href=https://colab.research.google.com/notebooks/data_table.ipynb>data table notebook</a>'\n",
              "            + ' to learn more about interactive tables.';\n",
              "          element.innerHTML = '';\n",
              "          dataTable['output_type'] = 'display_data';\n",
              "          await google.colab.output.renderOutput(dataTable, element);\n",
              "          const docLink = document.createElement('div');\n",
              "          docLink.innerHTML = docLinkHtml;\n",
              "          element.appendChild(docLink);\n",
              "        }\n",
              "      </script>\n",
              "    </div>\n",
              "  </div>\n",
              "  "
            ]
          },
          "metadata": {},
          "execution_count": 54
        }
      ]
    },
    {
      "cell_type": "markdown",
      "source": [
        "# <font color ='pickle'> **Task2: Feature Engineering and Preprocessing IMDB - 8 points**\n",
        "\n",
        "\n",
        "<font color = 'dodgerblue'>**You can use regular expression or spacy for this task** </font>\n",
        "\n",
        "- <font color = 'dodgerblue'> **PreProcessing**:</font>\n",
        "  1. Remove HTML tags and new line character (\\n)\n",
        "  2. Remove email, urls and punctuations\n",
        "\n",
        "  For preprocessing,  write your own simple functions  and your final cleaned text should be saved in a new column - `cleaned_text`.\n",
        "\n",
        "\n",
        "- <font color = 'dodgerblue'> **Feature Engineering**\n",
        "\n",
        "  Use the `cleaned_text` column you created in the previous step and extract following features as new column.\n",
        "\n",
        "  1. number of words\n",
        "  2. number of characters\n",
        "  3. number of characters without space\n",
        "  4. average word length\n",
        "  5. count of numbers(37, 201, 20 etc.)\n",
        "\n",
        "You will use the imdb moview review dataset. The details of the data can be found from this link : https://ai.stanford.edu/~amaas/data/sentiment/.\n",
        "\n",
        "Description of the data from the above link :\n",
        "\"*This is a dataset for binary sentiment classification containing substantially more data than previous benchmark datasets. We provide a set of 25,000 highly polar movie reviews for training, and 25,000 for testing. There is additional unlabeled data for use as well. Raw text and already processed bag of words formats are provided. See the README file contained in the release for more details.*\".\n",
        "\n",
        "We extracted the data from text files and save  the train and test data as csv files. We further cleaned the dataset. <font size =4, color = 'dodgerblue'>**We will use train.csv file for this task.**</font>.\n",
        "The file is availibale in Lecture2 data subfolder."
      ],
      "metadata": {
        "id": "UKiLpKKP8RSe"
      }
    },
    {
      "cell_type": "code",
      "source": [
        "data=pd.read_csv(\"/content/sample_data/train.csv\",encoding='ISO-8859-1')  "
      ],
      "metadata": {
        "id": "op0qX41zJeX5"
      },
      "execution_count": 61,
      "outputs": []
    },
    {
      "cell_type": "code",
      "source": [
        "data=data.drop('Unnamed: 0',axis=1)     \n",
        "data        "
      ],
      "metadata": {
        "id": "M92iuHeXASKu",
        "colab": {
          "base_uri": "https://localhost:8080/",
          "height": 424
        },
        "outputId": "20d39375-b3f4-490a-cd4e-1888002cb4a4"
      },
      "execution_count": 62,
      "outputs": [
        {
          "output_type": "execute_result",
          "data": {
            "text/plain": [
              "                                                 Reviews  Labels\n",
              "0      Ever wanted to know just how much Hollywood co...       1\n",
              "1      The movie itself was ok for the kids. But I go...       1\n",
              "2      You could stage a version of Charles Dickens' ...       1\n",
              "3      this was a fantastic episode. i saw a clip fro...       1\n",
              "4      and laugh out loud funny in many scenes.<br />...       1\n",
              "...                                                  ...     ...\n",
              "24995  I really felt cheated after seeing this pictur...       0\n",
              "24996  Ok,so.....guy gets bitten by a bat and then tu...       0\n",
              "24997  I am generally more willing to be open minded ...       0\n",
              "24998  What a load of rubbish.. I can't even begin to...       0\n",
              "24999  Well, this movie started out funny but quickly...       0\n",
              "\n",
              "[25000 rows x 2 columns]"
            ],
            "text/html": [
              "\n",
              "  <div id=\"df-39fbd23c-5ac1-4cf2-a3e9-b4962785c2d5\">\n",
              "    <div class=\"colab-df-container\">\n",
              "      <div>\n",
              "<style scoped>\n",
              "    .dataframe tbody tr th:only-of-type {\n",
              "        vertical-align: middle;\n",
              "    }\n",
              "\n",
              "    .dataframe tbody tr th {\n",
              "        vertical-align: top;\n",
              "    }\n",
              "\n",
              "    .dataframe thead th {\n",
              "        text-align: right;\n",
              "    }\n",
              "</style>\n",
              "<table border=\"1\" class=\"dataframe\">\n",
              "  <thead>\n",
              "    <tr style=\"text-align: right;\">\n",
              "      <th></th>\n",
              "      <th>Reviews</th>\n",
              "      <th>Labels</th>\n",
              "    </tr>\n",
              "  </thead>\n",
              "  <tbody>\n",
              "    <tr>\n",
              "      <th>0</th>\n",
              "      <td>Ever wanted to know just how much Hollywood co...</td>\n",
              "      <td>1</td>\n",
              "    </tr>\n",
              "    <tr>\n",
              "      <th>1</th>\n",
              "      <td>The movie itself was ok for the kids. But I go...</td>\n",
              "      <td>1</td>\n",
              "    </tr>\n",
              "    <tr>\n",
              "      <th>2</th>\n",
              "      <td>You could stage a version of Charles Dickens' ...</td>\n",
              "      <td>1</td>\n",
              "    </tr>\n",
              "    <tr>\n",
              "      <th>3</th>\n",
              "      <td>this was a fantastic episode. i saw a clip fro...</td>\n",
              "      <td>1</td>\n",
              "    </tr>\n",
              "    <tr>\n",
              "      <th>4</th>\n",
              "      <td>and laugh out loud funny in many scenes.&lt;br /&gt;...</td>\n",
              "      <td>1</td>\n",
              "    </tr>\n",
              "    <tr>\n",
              "      <th>...</th>\n",
              "      <td>...</td>\n",
              "      <td>...</td>\n",
              "    </tr>\n",
              "    <tr>\n",
              "      <th>24995</th>\n",
              "      <td>I really felt cheated after seeing this pictur...</td>\n",
              "      <td>0</td>\n",
              "    </tr>\n",
              "    <tr>\n",
              "      <th>24996</th>\n",
              "      <td>Ok,so.....guy gets bitten by a bat and then tu...</td>\n",
              "      <td>0</td>\n",
              "    </tr>\n",
              "    <tr>\n",
              "      <th>24997</th>\n",
              "      <td>I am generally more willing to be open minded ...</td>\n",
              "      <td>0</td>\n",
              "    </tr>\n",
              "    <tr>\n",
              "      <th>24998</th>\n",
              "      <td>What a load of rubbish.. I can't even begin to...</td>\n",
              "      <td>0</td>\n",
              "    </tr>\n",
              "    <tr>\n",
              "      <th>24999</th>\n",
              "      <td>Well, this movie started out funny but quickly...</td>\n",
              "      <td>0</td>\n",
              "    </tr>\n",
              "  </tbody>\n",
              "</table>\n",
              "<p>25000 rows × 2 columns</p>\n",
              "</div>\n",
              "      <button class=\"colab-df-convert\" onclick=\"convertToInteractive('df-39fbd23c-5ac1-4cf2-a3e9-b4962785c2d5')\"\n",
              "              title=\"Convert this dataframe to an interactive table.\"\n",
              "              style=\"display:none;\">\n",
              "        \n",
              "  <svg xmlns=\"http://www.w3.org/2000/svg\" height=\"24px\"viewBox=\"0 0 24 24\"\n",
              "       width=\"24px\">\n",
              "    <path d=\"M0 0h24v24H0V0z\" fill=\"none\"/>\n",
              "    <path d=\"M18.56 5.44l.94 2.06.94-2.06 2.06-.94-2.06-.94-.94-2.06-.94 2.06-2.06.94zm-11 1L8.5 8.5l.94-2.06 2.06-.94-2.06-.94L8.5 2.5l-.94 2.06-2.06.94zm10 10l.94 2.06.94-2.06 2.06-.94-2.06-.94-.94-2.06-.94 2.06-2.06.94z\"/><path d=\"M17.41 7.96l-1.37-1.37c-.4-.4-.92-.59-1.43-.59-.52 0-1.04.2-1.43.59L10.3 9.45l-7.72 7.72c-.78.78-.78 2.05 0 2.83L4 21.41c.39.39.9.59 1.41.59.51 0 1.02-.2 1.41-.59l7.78-7.78 2.81-2.81c.8-.78.8-2.07 0-2.86zM5.41 20L4 18.59l7.72-7.72 1.47 1.35L5.41 20z\"/>\n",
              "  </svg>\n",
              "      </button>\n",
              "      \n",
              "  <style>\n",
              "    .colab-df-container {\n",
              "      display:flex;\n",
              "      flex-wrap:wrap;\n",
              "      gap: 12px;\n",
              "    }\n",
              "\n",
              "    .colab-df-convert {\n",
              "      background-color: #E8F0FE;\n",
              "      border: none;\n",
              "      border-radius: 50%;\n",
              "      cursor: pointer;\n",
              "      display: none;\n",
              "      fill: #1967D2;\n",
              "      height: 32px;\n",
              "      padding: 0 0 0 0;\n",
              "      width: 32px;\n",
              "    }\n",
              "\n",
              "    .colab-df-convert:hover {\n",
              "      background-color: #E2EBFA;\n",
              "      box-shadow: 0px 1px 2px rgba(60, 64, 67, 0.3), 0px 1px 3px 1px rgba(60, 64, 67, 0.15);\n",
              "      fill: #174EA6;\n",
              "    }\n",
              "\n",
              "    [theme=dark] .colab-df-convert {\n",
              "      background-color: #3B4455;\n",
              "      fill: #D2E3FC;\n",
              "    }\n",
              "\n",
              "    [theme=dark] .colab-df-convert:hover {\n",
              "      background-color: #434B5C;\n",
              "      box-shadow: 0px 1px 3px 1px rgba(0, 0, 0, 0.15);\n",
              "      filter: drop-shadow(0px 1px 2px rgba(0, 0, 0, 0.3));\n",
              "      fill: #FFFFFF;\n",
              "    }\n",
              "  </style>\n",
              "\n",
              "      <script>\n",
              "        const buttonEl =\n",
              "          document.querySelector('#df-39fbd23c-5ac1-4cf2-a3e9-b4962785c2d5 button.colab-df-convert');\n",
              "        buttonEl.style.display =\n",
              "          google.colab.kernel.accessAllowed ? 'block' : 'none';\n",
              "\n",
              "        async function convertToInteractive(key) {\n",
              "          const element = document.querySelector('#df-39fbd23c-5ac1-4cf2-a3e9-b4962785c2d5');\n",
              "          const dataTable =\n",
              "            await google.colab.kernel.invokeFunction('convertToInteractive',\n",
              "                                                     [key], {});\n",
              "          if (!dataTable) return;\n",
              "\n",
              "          const docLinkHtml = 'Like what you see? Visit the ' +\n",
              "            '<a target=\"_blank\" href=https://colab.research.google.com/notebooks/data_table.ipynb>data table notebook</a>'\n",
              "            + ' to learn more about interactive tables.';\n",
              "          element.innerHTML = '';\n",
              "          dataTable['output_type'] = 'display_data';\n",
              "          await google.colab.output.renderOutput(dataTable, element);\n",
              "          const docLink = document.createElement('div');\n",
              "          docLink.innerHTML = docLinkHtml;\n",
              "          element.appendChild(docLink);\n",
              "        }\n",
              "      </script>\n",
              "    </div>\n",
              "  </div>\n",
              "  "
            ]
          },
          "metadata": {},
          "execution_count": 62
        }
      ]
    },
    {
      "cell_type": "code",
      "source": [
        "from sklearn.base import BaseEstimator, TransformerMixin\n",
        "from bs4 import BeautifulSoup\n",
        "import numpy as np\n",
        "import spacy\n",
        "import re\n",
        "from spacy.matcher import Matcher\n",
        "from spacy.tokens import Token\n",
        "from pathlib import Path\n",
        "from nltk.stem.porter import PorterStemmer"
      ],
      "metadata": {
        "id": "UpqOT1xVASHE"
      },
      "execution_count": 63,
      "outputs": []
    },
    {
      "cell_type": "code",
      "source": [
        "# def basic_clean(self, text): \n",
        "        \n",
        "#         '''\n",
        "#         This fuction removes HTML tags from text\n",
        "#         '''\n",
        "#         if (bool(BeautifulSoup(text, \"html.parser\").find())==True):         \n",
        "#             soup = BeautifulSoup(text, \"html.parser\")\n",
        "#             text = soup.get_text()\n",
        "#         else:                                                             \n",
        "#             pass\n",
        "#         return re.sub(r'[\\n\\r]',' ', text) \n",
        "\n",
        "\n",
        "\n",
        "# def strip_html_tags(text):\n",
        "#     soup = BeautifulSoup(text, \"html.parser\")\n",
        "#     stripped_text = soup.get_text()\n",
        "#     return stripped_text\n",
        "\n",
        "\n",
        "\n",
        "# import re\n",
        "# def strip_html_tags(text):\n",
        "#     p = re.compile(r'<.*?>')\n",
        "#     return p.sub('', text)\n",
        "\n",
        "\n",
        "\n",
        "\n",
        "\n"
      ],
      "metadata": {
        "id": "D0IJpG4IASDk"
      },
      "execution_count": null,
      "outputs": []
    },
    {
      "cell_type": "code",
      "source": [
        "# data['cleaned_text']=data['Reviews'].apply(lambda x: strip_html_tags(x))"
      ],
      "metadata": {
        "id": "Z-PJ6drwAR9F"
      },
      "execution_count": null,
      "outputs": []
    },
    {
      "cell_type": "code",
      "source": [
        "# data['cleaned_text'][4]"
      ],
      "metadata": {
        "id": "R1BXSgQppuXc"
      },
      "execution_count": null,
      "outputs": []
    },
    {
      "cell_type": "code",
      "source": [
        "import spacy\n",
        "import pandas as pd\n",
        "!python -m spacy download en_core_web_sm\n",
        "nlp=spacy.load('en_core_web_sm')\n",
        "disabled =nlp.select_pipes(disable=['tok2vec', 'tagger', 'parser', 'attribute_ruler', 'lemmatizer', 'ner'])"
      ],
      "metadata": {
        "colab": {
          "base_uri": "https://localhost:8080/"
        },
        "id": "7SmAdjNwcNnQ",
        "outputId": "69f7e43b-449d-4d19-8a0f-0bc0e3ebcd79"
      },
      "execution_count": 64,
      "outputs": [
        {
          "output_type": "stream",
          "name": "stdout",
          "text": [
            "2022-09-11 03:27:42.145749: E tensorflow/stream_executor/cuda/cuda_driver.cc:271] failed call to cuInit: CUDA_ERROR_NO_DEVICE: no CUDA-capable device is detected\n",
            "Looking in indexes: https://pypi.org/simple, https://us-python.pkg.dev/colab-wheels/public/simple/\n",
            "Collecting en-core-web-sm==3.4.0\n",
            "  Downloading https://github.com/explosion/spacy-models/releases/download/en_core_web_sm-3.4.0/en_core_web_sm-3.4.0-py3-none-any.whl (12.8 MB)\n",
            "\u001b[K     |████████████████████████████████| 12.8 MB 5.2 MB/s \n",
            "\u001b[?25hRequirement already satisfied: spacy<3.5.0,>=3.4.0 in /usr/local/lib/python3.7/dist-packages (from en-core-web-sm==3.4.0) (3.4.1)\n",
            "Requirement already satisfied: requests<3.0.0,>=2.13.0 in /usr/local/lib/python3.7/dist-packages (from spacy<3.5.0,>=3.4.0->en-core-web-sm==3.4.0) (2.23.0)\n",
            "Requirement already satisfied: murmurhash<1.1.0,>=0.28.0 in /usr/local/lib/python3.7/dist-packages (from spacy<3.5.0,>=3.4.0->en-core-web-sm==3.4.0) (1.0.8)\n",
            "Requirement already satisfied: setuptools in /usr/local/lib/python3.7/dist-packages (from spacy<3.5.0,>=3.4.0->en-core-web-sm==3.4.0) (57.4.0)\n",
            "Requirement already satisfied: spacy-legacy<3.1.0,>=3.0.9 in /usr/local/lib/python3.7/dist-packages (from spacy<3.5.0,>=3.4.0->en-core-web-sm==3.4.0) (3.0.10)\n",
            "Requirement already satisfied: typing-extensions<4.2.0,>=3.7.4 in /usr/local/lib/python3.7/dist-packages (from spacy<3.5.0,>=3.4.0->en-core-web-sm==3.4.0) (4.1.1)\n",
            "Requirement already satisfied: spacy-loggers<2.0.0,>=1.0.0 in /usr/local/lib/python3.7/dist-packages (from spacy<3.5.0,>=3.4.0->en-core-web-sm==3.4.0) (1.0.3)\n",
            "Requirement already satisfied: cymem<2.1.0,>=2.0.2 in /usr/local/lib/python3.7/dist-packages (from spacy<3.5.0,>=3.4.0->en-core-web-sm==3.4.0) (2.0.6)\n",
            "Requirement already satisfied: wasabi<1.1.0,>=0.9.1 in /usr/local/lib/python3.7/dist-packages (from spacy<3.5.0,>=3.4.0->en-core-web-sm==3.4.0) (0.10.1)\n",
            "Requirement already satisfied: numpy>=1.15.0 in /usr/local/lib/python3.7/dist-packages (from spacy<3.5.0,>=3.4.0->en-core-web-sm==3.4.0) (1.21.6)\n",
            "Requirement already satisfied: tqdm<5.0.0,>=4.38.0 in /usr/local/lib/python3.7/dist-packages (from spacy<3.5.0,>=3.4.0->en-core-web-sm==3.4.0) (4.64.0)\n",
            "Requirement already satisfied: pydantic!=1.8,!=1.8.1,<1.10.0,>=1.7.4 in /usr/local/lib/python3.7/dist-packages (from spacy<3.5.0,>=3.4.0->en-core-web-sm==3.4.0) (1.9.2)\n",
            "Requirement already satisfied: packaging>=20.0 in /usr/local/lib/python3.7/dist-packages (from spacy<3.5.0,>=3.4.0->en-core-web-sm==3.4.0) (21.3)\n",
            "Requirement already satisfied: thinc<8.2.0,>=8.1.0 in /usr/local/lib/python3.7/dist-packages (from spacy<3.5.0,>=3.4.0->en-core-web-sm==3.4.0) (8.1.0)\n",
            "Requirement already satisfied: catalogue<2.1.0,>=2.0.6 in /usr/local/lib/python3.7/dist-packages (from spacy<3.5.0,>=3.4.0->en-core-web-sm==3.4.0) (2.0.8)\n",
            "Requirement already satisfied: jinja2 in /usr/local/lib/python3.7/dist-packages (from spacy<3.5.0,>=3.4.0->en-core-web-sm==3.4.0) (2.11.3)\n",
            "Requirement already satisfied: srsly<3.0.0,>=2.4.3 in /usr/local/lib/python3.7/dist-packages (from spacy<3.5.0,>=3.4.0->en-core-web-sm==3.4.0) (2.4.4)\n",
            "Requirement already satisfied: typer<0.5.0,>=0.3.0 in /usr/local/lib/python3.7/dist-packages (from spacy<3.5.0,>=3.4.0->en-core-web-sm==3.4.0) (0.4.2)\n",
            "Requirement already satisfied: pathy>=0.3.5 in /usr/local/lib/python3.7/dist-packages (from spacy<3.5.0,>=3.4.0->en-core-web-sm==3.4.0) (0.6.2)\n",
            "Requirement already satisfied: langcodes<4.0.0,>=3.2.0 in /usr/local/lib/python3.7/dist-packages (from spacy<3.5.0,>=3.4.0->en-core-web-sm==3.4.0) (3.3.0)\n",
            "Requirement already satisfied: preshed<3.1.0,>=3.0.2 in /usr/local/lib/python3.7/dist-packages (from spacy<3.5.0,>=3.4.0->en-core-web-sm==3.4.0) (3.0.7)\n",
            "Requirement already satisfied: zipp>=0.5 in /usr/local/lib/python3.7/dist-packages (from catalogue<2.1.0,>=2.0.6->spacy<3.5.0,>=3.4.0->en-core-web-sm==3.4.0) (3.8.1)\n",
            "Requirement already satisfied: pyparsing!=3.0.5,>=2.0.2 in /usr/local/lib/python3.7/dist-packages (from packaging>=20.0->spacy<3.5.0,>=3.4.0->en-core-web-sm==3.4.0) (3.0.9)\n",
            "Requirement already satisfied: smart-open<6.0.0,>=5.2.1 in /usr/local/lib/python3.7/dist-packages (from pathy>=0.3.5->spacy<3.5.0,>=3.4.0->en-core-web-sm==3.4.0) (5.2.1)\n",
            "Requirement already satisfied: chardet<4,>=3.0.2 in /usr/local/lib/python3.7/dist-packages (from requests<3.0.0,>=2.13.0->spacy<3.5.0,>=3.4.0->en-core-web-sm==3.4.0) (3.0.4)\n",
            "Requirement already satisfied: certifi>=2017.4.17 in /usr/local/lib/python3.7/dist-packages (from requests<3.0.0,>=2.13.0->spacy<3.5.0,>=3.4.0->en-core-web-sm==3.4.0) (2022.6.15)\n",
            "Requirement already satisfied: idna<3,>=2.5 in /usr/local/lib/python3.7/dist-packages (from requests<3.0.0,>=2.13.0->spacy<3.5.0,>=3.4.0->en-core-web-sm==3.4.0) (2.10)\n",
            "Requirement already satisfied: urllib3!=1.25.0,!=1.25.1,<1.26,>=1.21.1 in /usr/local/lib/python3.7/dist-packages (from requests<3.0.0,>=2.13.0->spacy<3.5.0,>=3.4.0->en-core-web-sm==3.4.0) (1.24.3)\n",
            "Requirement already satisfied: blis<0.8.0,>=0.7.8 in /usr/local/lib/python3.7/dist-packages (from thinc<8.2.0,>=8.1.0->spacy<3.5.0,>=3.4.0->en-core-web-sm==3.4.0) (0.7.8)\n",
            "Requirement already satisfied: click<9.0.0,>=7.1.1 in /usr/local/lib/python3.7/dist-packages (from typer<0.5.0,>=0.3.0->spacy<3.5.0,>=3.4.0->en-core-web-sm==3.4.0) (7.1.2)\n",
            "Requirement already satisfied: MarkupSafe>=0.23 in /usr/local/lib/python3.7/dist-packages (from jinja2->spacy<3.5.0,>=3.4.0->en-core-web-sm==3.4.0) (2.0.1)\n",
            "\u001b[38;5;2m✔ Download and installation successful\u001b[0m\n",
            "You can now load the package via spacy.load('en_core_web_sm')\n"
          ]
        }
      ]
    },
    {
      "cell_type": "code",
      "source": [
        "import re\n",
        "def strip_html_tags(text):\n",
        "    p = re.compile(r'<.*?>')\n",
        "    return p.sub('', text)\n"
      ],
      "metadata": {
        "id": "aTMBta38g2hv"
      },
      "execution_count": 65,
      "outputs": []
    },
    {
      "cell_type": "code",
      "source": [
        "data['cleaned_text']=data['Reviews'].apply(lambda x: strip_html_tags(x)) "
      ],
      "metadata": {
        "id": "xsW-0aXug-7Q"
      },
      "execution_count": 66,
      "outputs": []
    },
    {
      "cell_type": "code",
      "source": [
        "import re\n",
        "def strip_newlinec(text):\n",
        "  return re.sub('\\n', '', text)\n",
        "\n",
        "\n",
        "\n",
        "\n"
      ],
      "metadata": {
        "id": "2jc4kh1c0ls6"
      },
      "execution_count": 67,
      "outputs": []
    },
    {
      "cell_type": "code",
      "source": [
        "data['cleaned_text']=data['cleaned_text'].apply(lambda x: strip_newlinec(x)) "
      ],
      "metadata": {
        "id": "v15E6e1P0lCe"
      },
      "execution_count": 68,
      "outputs": []
    },
    {
      "cell_type": "code",
      "source": [
        "def strip_emails(text): \n",
        "  doc=nlp(text)\n",
        "\n",
        "  return \" \".join([token.text for token in doc if not token.like_email])"
      ],
      "metadata": {
        "id": "KOvZ2WKvFF4U"
      },
      "execution_count": 69,
      "outputs": []
    },
    {
      "cell_type": "code",
      "source": [
        "data['cleaned_text']=data['cleaned_text'].apply(lambda x: strip_emails(x))   "
      ],
      "metadata": {
        "id": "SIa4PqYpFFr4"
      },
      "execution_count": 70,
      "outputs": []
    },
    {
      "cell_type": "code",
      "source": [
        "# def strip_punctuation(x):\n",
        "#   return \" \".join(token.lemma_ for token in nlp(x) \n",
        "#                                                if not token.is_punct)\n",
        "# #\n",
        "\n",
        "# data[\"cleaned_text\"] = data['cleaned_text'].apply(lambda x: strip_punctuation(nlp(x)))"
      ],
      "metadata": {
        "id": "8mSspFRp3O2r"
      },
      "execution_count": null,
      "outputs": []
    },
    {
      "cell_type": "code",
      "source": [
        "def strip_urls(text):\n",
        "  doc=nlp(text)\n",
        "\n",
        "  return \" \".join([token.text for token in doc if not token.like_url])"
      ],
      "metadata": {
        "id": "Y9F7u9zz4eLt"
      },
      "execution_count": 71,
      "outputs": []
    },
    {
      "cell_type": "code",
      "source": [
        "data['cleaned_text']=data['cleaned_text'].apply(lambda x: strip_urls(x))    "
      ],
      "metadata": {
        "id": "FBa8vzBv5JRm"
      },
      "execution_count": 72,
      "outputs": []
    },
    {
      "cell_type": "code",
      "source": [
        "def strip_punctuation(text):\n",
        "  doc=nlp(text)\n",
        "\n",
        "  return \" \".join([token.text for token in doc if not token.is_punct])"
      ],
      "metadata": {
        "id": "j2iWeYL15zGs"
      },
      "execution_count": 73,
      "outputs": []
    },
    {
      "cell_type": "code",
      "source": [
        "data['cleaned_text']=data['cleaned_text'].apply(lambda x: strip_punctuation(x))   "
      ],
      "metadata": {
        "id": "rHqo8zLI5y-n"
      },
      "execution_count": 74,
      "outputs": []
    },
    {
      "cell_type": "code",
      "source": [
        "data['cleaned_text'].iloc[0]"
      ],
      "metadata": {
        "colab": {
          "base_uri": "https://localhost:8080/",
          "height": 157
        },
        "id": "ourd70dt6e35",
        "outputId": "03e437d2-05da-4c8d-ae86-5e6dd07f2b56"
      },
      "execution_count": 75,
      "outputs": [
        {
          "output_type": "execute_result",
          "data": {
            "text/plain": [
              "\"Ever wanted to know just how much Hollywood could get away with before the Hayes Code was officially put into effect Well unfortunately Convention City is lost so well just have to watch Tarzan and His Mate to find out For 1934 there is a remarkable amount of sexual innuendo and even exposed flesh Just look at Jane 's nude swim While Tarzan is often thought of as b adventure films made for young boys and no one else this picture proves that the series was originally very adult Over seventy years later it is still as sexy as it was when it came out In addition to the envelope pushing taboo nature it is a superb and exciting adventure story I ve always enjoyed the jungle films that Hollywood churned out in the 30s and the 40s but there are few from the genre I 'd call great films Tarzan and His Mate is by far the best film from this long gone subgenre The sequences of the attacks on the safari by either apes or natives still manage to create tension today Also the animals are all too cool espescially the apes throwing boulders The acting wo n't win any major awards soon but is certainly more than adequate for this type of picture The film is once again stolen by Cheetah the smartest monkey in the jungle One of the most entertaining examples of pre code Hollywood out there\""
            ],
            "application/vnd.google.colaboratory.intrinsic+json": {
              "type": "string"
            }
          },
          "metadata": {},
          "execution_count": 75
        }
      ]
    },
    {
      "cell_type": "markdown",
      "source": [],
      "metadata": {
        "id": "BZzyy7bQft7i"
      }
    },
    {
      "cell_type": "code",
      "source": [
        "def word_count(x):\n",
        "  doc=nlp(x)\n",
        "  sum=len([token.text for token in doc])\n",
        "  return sum\n",
        "\n",
        "\n",
        "\n",
        "data['num_words']=data['cleaned_text'].apply(lambda x : word_count(x))"
      ],
      "metadata": {
        "id": "1zVUMuA6e_Vg"
      },
      "execution_count": 78,
      "outputs": []
    },
    {
      "cell_type": "code",
      "source": [
        "import re\n",
        "def character_count(x):\n",
        "  regex=re.compile(r\".*\")\n",
        "  return sum(len(line) for line in x.splitlines())\n",
        "\n",
        "\n",
        "\n",
        "data['num_of_characters']=data['cleaned_text'].apply(lambda x : character_count(x))"
      ],
      "metadata": {
        "id": "y84Skr6NjFgh"
      },
      "execution_count": 79,
      "outputs": []
    },
    {
      "cell_type": "code",
      "source": [
        "data  "
      ],
      "metadata": {
        "colab": {
          "base_uri": "https://localhost:8080/",
          "height": 424
        },
        "id": "_XFkdU0UqV9V",
        "outputId": "6f78d5a5-fa12-4a2a-87ee-d7ad71baf97a"
      },
      "execution_count": 80,
      "outputs": [
        {
          "output_type": "execute_result",
          "data": {
            "text/plain": [
              "                                                 Reviews  Labels  \\\n",
              "0      Ever wanted to know just how much Hollywood co...       1   \n",
              "1      The movie itself was ok for the kids. But I go...       1   \n",
              "2      You could stage a version of Charles Dickens' ...       1   \n",
              "3      this was a fantastic episode. i saw a clip fro...       1   \n",
              "4      and laugh out loud funny in many scenes.<br />...       1   \n",
              "...                                                  ...     ...   \n",
              "24995  I really felt cheated after seeing this pictur...       0   \n",
              "24996  Ok,so.....guy gets bitten by a bat and then tu...       0   \n",
              "24997  I am generally more willing to be open minded ...       0   \n",
              "24998  What a load of rubbish.. I can't even begin to...       0   \n",
              "24999  Well, this movie started out funny but quickly...       0   \n",
              "\n",
              "                                            cleaned_text  num_words  \\\n",
              "0      Ever wanted to know just how much Hollywood co...        242   \n",
              "1      The movie itself was ok for the kids But I got...         57   \n",
              "2      You could stage a version of Charles Dickens A...        849   \n",
              "3      this was a fantastic episode i saw a clip from...        131   \n",
              "4      and laugh out loud funny in many scenes The mo...        105   \n",
              "...                                                  ...        ...   \n",
              "24995  I really felt cheated after seeing this pictur...        287   \n",
              "24996  Ok so guy gets bitten by a bat and then turns ...         44   \n",
              "24997  I am generally more willing to be open minded ...        358   \n",
              "24998  What a load of rubbish I ca n't even begin to ...        273   \n",
              "24999  Well this movie started out funny but quickly ...        143   \n",
              "\n",
              "       num_of_characters  \n",
              "0                   1290  \n",
              "1                    279  \n",
              "2                   4672  \n",
              "3                    636  \n",
              "4                    545  \n",
              "...                  ...  \n",
              "24995               1446  \n",
              "24996                208  \n",
              "24997               1875  \n",
              "24998               1430  \n",
              "24999                747  \n",
              "\n",
              "[25000 rows x 5 columns]"
            ],
            "text/html": [
              "\n",
              "  <div id=\"df-adb7f65c-44e5-47a7-a55a-56ac0f560495\">\n",
              "    <div class=\"colab-df-container\">\n",
              "      <div>\n",
              "<style scoped>\n",
              "    .dataframe tbody tr th:only-of-type {\n",
              "        vertical-align: middle;\n",
              "    }\n",
              "\n",
              "    .dataframe tbody tr th {\n",
              "        vertical-align: top;\n",
              "    }\n",
              "\n",
              "    .dataframe thead th {\n",
              "        text-align: right;\n",
              "    }\n",
              "</style>\n",
              "<table border=\"1\" class=\"dataframe\">\n",
              "  <thead>\n",
              "    <tr style=\"text-align: right;\">\n",
              "      <th></th>\n",
              "      <th>Reviews</th>\n",
              "      <th>Labels</th>\n",
              "      <th>cleaned_text</th>\n",
              "      <th>num_words</th>\n",
              "      <th>num_of_characters</th>\n",
              "    </tr>\n",
              "  </thead>\n",
              "  <tbody>\n",
              "    <tr>\n",
              "      <th>0</th>\n",
              "      <td>Ever wanted to know just how much Hollywood co...</td>\n",
              "      <td>1</td>\n",
              "      <td>Ever wanted to know just how much Hollywood co...</td>\n",
              "      <td>242</td>\n",
              "      <td>1290</td>\n",
              "    </tr>\n",
              "    <tr>\n",
              "      <th>1</th>\n",
              "      <td>The movie itself was ok for the kids. But I go...</td>\n",
              "      <td>1</td>\n",
              "      <td>The movie itself was ok for the kids But I got...</td>\n",
              "      <td>57</td>\n",
              "      <td>279</td>\n",
              "    </tr>\n",
              "    <tr>\n",
              "      <th>2</th>\n",
              "      <td>You could stage a version of Charles Dickens' ...</td>\n",
              "      <td>1</td>\n",
              "      <td>You could stage a version of Charles Dickens A...</td>\n",
              "      <td>849</td>\n",
              "      <td>4672</td>\n",
              "    </tr>\n",
              "    <tr>\n",
              "      <th>3</th>\n",
              "      <td>this was a fantastic episode. i saw a clip fro...</td>\n",
              "      <td>1</td>\n",
              "      <td>this was a fantastic episode i saw a clip from...</td>\n",
              "      <td>131</td>\n",
              "      <td>636</td>\n",
              "    </tr>\n",
              "    <tr>\n",
              "      <th>4</th>\n",
              "      <td>and laugh out loud funny in many scenes.&lt;br /&gt;...</td>\n",
              "      <td>1</td>\n",
              "      <td>and laugh out loud funny in many scenes The mo...</td>\n",
              "      <td>105</td>\n",
              "      <td>545</td>\n",
              "    </tr>\n",
              "    <tr>\n",
              "      <th>...</th>\n",
              "      <td>...</td>\n",
              "      <td>...</td>\n",
              "      <td>...</td>\n",
              "      <td>...</td>\n",
              "      <td>...</td>\n",
              "    </tr>\n",
              "    <tr>\n",
              "      <th>24995</th>\n",
              "      <td>I really felt cheated after seeing this pictur...</td>\n",
              "      <td>0</td>\n",
              "      <td>I really felt cheated after seeing this pictur...</td>\n",
              "      <td>287</td>\n",
              "      <td>1446</td>\n",
              "    </tr>\n",
              "    <tr>\n",
              "      <th>24996</th>\n",
              "      <td>Ok,so.....guy gets bitten by a bat and then tu...</td>\n",
              "      <td>0</td>\n",
              "      <td>Ok so guy gets bitten by a bat and then turns ...</td>\n",
              "      <td>44</td>\n",
              "      <td>208</td>\n",
              "    </tr>\n",
              "    <tr>\n",
              "      <th>24997</th>\n",
              "      <td>I am generally more willing to be open minded ...</td>\n",
              "      <td>0</td>\n",
              "      <td>I am generally more willing to be open minded ...</td>\n",
              "      <td>358</td>\n",
              "      <td>1875</td>\n",
              "    </tr>\n",
              "    <tr>\n",
              "      <th>24998</th>\n",
              "      <td>What a load of rubbish.. I can't even begin to...</td>\n",
              "      <td>0</td>\n",
              "      <td>What a load of rubbish I ca n't even begin to ...</td>\n",
              "      <td>273</td>\n",
              "      <td>1430</td>\n",
              "    </tr>\n",
              "    <tr>\n",
              "      <th>24999</th>\n",
              "      <td>Well, this movie started out funny but quickly...</td>\n",
              "      <td>0</td>\n",
              "      <td>Well this movie started out funny but quickly ...</td>\n",
              "      <td>143</td>\n",
              "      <td>747</td>\n",
              "    </tr>\n",
              "  </tbody>\n",
              "</table>\n",
              "<p>25000 rows × 5 columns</p>\n",
              "</div>\n",
              "      <button class=\"colab-df-convert\" onclick=\"convertToInteractive('df-adb7f65c-44e5-47a7-a55a-56ac0f560495')\"\n",
              "              title=\"Convert this dataframe to an interactive table.\"\n",
              "              style=\"display:none;\">\n",
              "        \n",
              "  <svg xmlns=\"http://www.w3.org/2000/svg\" height=\"24px\"viewBox=\"0 0 24 24\"\n",
              "       width=\"24px\">\n",
              "    <path d=\"M0 0h24v24H0V0z\" fill=\"none\"/>\n",
              "    <path d=\"M18.56 5.44l.94 2.06.94-2.06 2.06-.94-2.06-.94-.94-2.06-.94 2.06-2.06.94zm-11 1L8.5 8.5l.94-2.06 2.06-.94-2.06-.94L8.5 2.5l-.94 2.06-2.06.94zm10 10l.94 2.06.94-2.06 2.06-.94-2.06-.94-.94-2.06-.94 2.06-2.06.94z\"/><path d=\"M17.41 7.96l-1.37-1.37c-.4-.4-.92-.59-1.43-.59-.52 0-1.04.2-1.43.59L10.3 9.45l-7.72 7.72c-.78.78-.78 2.05 0 2.83L4 21.41c.39.39.9.59 1.41.59.51 0 1.02-.2 1.41-.59l7.78-7.78 2.81-2.81c.8-.78.8-2.07 0-2.86zM5.41 20L4 18.59l7.72-7.72 1.47 1.35L5.41 20z\"/>\n",
              "  </svg>\n",
              "      </button>\n",
              "      \n",
              "  <style>\n",
              "    .colab-df-container {\n",
              "      display:flex;\n",
              "      flex-wrap:wrap;\n",
              "      gap: 12px;\n",
              "    }\n",
              "\n",
              "    .colab-df-convert {\n",
              "      background-color: #E8F0FE;\n",
              "      border: none;\n",
              "      border-radius: 50%;\n",
              "      cursor: pointer;\n",
              "      display: none;\n",
              "      fill: #1967D2;\n",
              "      height: 32px;\n",
              "      padding: 0 0 0 0;\n",
              "      width: 32px;\n",
              "    }\n",
              "\n",
              "    .colab-df-convert:hover {\n",
              "      background-color: #E2EBFA;\n",
              "      box-shadow: 0px 1px 2px rgba(60, 64, 67, 0.3), 0px 1px 3px 1px rgba(60, 64, 67, 0.15);\n",
              "      fill: #174EA6;\n",
              "    }\n",
              "\n",
              "    [theme=dark] .colab-df-convert {\n",
              "      background-color: #3B4455;\n",
              "      fill: #D2E3FC;\n",
              "    }\n",
              "\n",
              "    [theme=dark] .colab-df-convert:hover {\n",
              "      background-color: #434B5C;\n",
              "      box-shadow: 0px 1px 3px 1px rgba(0, 0, 0, 0.15);\n",
              "      filter: drop-shadow(0px 1px 2px rgba(0, 0, 0, 0.3));\n",
              "      fill: #FFFFFF;\n",
              "    }\n",
              "  </style>\n",
              "\n",
              "      <script>\n",
              "        const buttonEl =\n",
              "          document.querySelector('#df-adb7f65c-44e5-47a7-a55a-56ac0f560495 button.colab-df-convert');\n",
              "        buttonEl.style.display =\n",
              "          google.colab.kernel.accessAllowed ? 'block' : 'none';\n",
              "\n",
              "        async function convertToInteractive(key) {\n",
              "          const element = document.querySelector('#df-adb7f65c-44e5-47a7-a55a-56ac0f560495');\n",
              "          const dataTable =\n",
              "            await google.colab.kernel.invokeFunction('convertToInteractive',\n",
              "                                                     [key], {});\n",
              "          if (!dataTable) return;\n",
              "\n",
              "          const docLinkHtml = 'Like what you see? Visit the ' +\n",
              "            '<a target=\"_blank\" href=https://colab.research.google.com/notebooks/data_table.ipynb>data table notebook</a>'\n",
              "            + ' to learn more about interactive tables.';\n",
              "          element.innerHTML = '';\n",
              "          dataTable['output_type'] = 'display_data';\n",
              "          await google.colab.output.renderOutput(dataTable, element);\n",
              "          const docLink = document.createElement('div');\n",
              "          docLink.innerHTML = docLinkHtml;\n",
              "          element.appendChild(docLink);\n",
              "        }\n",
              "      </script>\n",
              "    </div>\n",
              "  </div>\n",
              "  "
            ]
          },
          "metadata": {},
          "execution_count": 80
        }
      ]
    },
    {
      "cell_type": "code",
      "source": [
        "import re\n",
        "def character_count(x):\n",
        "  return sum(len(line) for line in x.splitlines())-x.count(\" \")\n",
        "\n",
        "\n",
        "\n",
        "\n",
        "data['num_of_characters_no_space']=data['cleaned_text'].apply(lambda x : character_count(x))"
      ],
      "metadata": {
        "id": "bRkATg2vDGcp"
      },
      "execution_count": 81,
      "outputs": []
    },
    {
      "cell_type": "code",
      "source": [
        "data"
      ],
      "metadata": {
        "colab": {
          "base_uri": "https://localhost:8080/",
          "height": 641
        },
        "id": "SilNRH6IDaBw",
        "outputId": "c6ab8d12-813b-4fd3-f66b-3657e1d72375"
      },
      "execution_count": 82,
      "outputs": [
        {
          "output_type": "execute_result",
          "data": {
            "text/plain": [
              "                                                 Reviews  Labels  \\\n",
              "0      Ever wanted to know just how much Hollywood co...       1   \n",
              "1      The movie itself was ok for the kids. But I go...       1   \n",
              "2      You could stage a version of Charles Dickens' ...       1   \n",
              "3      this was a fantastic episode. i saw a clip fro...       1   \n",
              "4      and laugh out loud funny in many scenes.<br />...       1   \n",
              "...                                                  ...     ...   \n",
              "24995  I really felt cheated after seeing this pictur...       0   \n",
              "24996  Ok,so.....guy gets bitten by a bat and then tu...       0   \n",
              "24997  I am generally more willing to be open minded ...       0   \n",
              "24998  What a load of rubbish.. I can't even begin to...       0   \n",
              "24999  Well, this movie started out funny but quickly...       0   \n",
              "\n",
              "                                            cleaned_text  num_words  \\\n",
              "0      Ever wanted to know just how much Hollywood co...        242   \n",
              "1      The movie itself was ok for the kids But I got...         57   \n",
              "2      You could stage a version of Charles Dickens A...        849   \n",
              "3      this was a fantastic episode i saw a clip from...        131   \n",
              "4      and laugh out loud funny in many scenes The mo...        105   \n",
              "...                                                  ...        ...   \n",
              "24995  I really felt cheated after seeing this pictur...        287   \n",
              "24996  Ok so guy gets bitten by a bat and then turns ...         44   \n",
              "24997  I am generally more willing to be open minded ...        358   \n",
              "24998  What a load of rubbish I ca n't even begin to ...        273   \n",
              "24999  Well this movie started out funny but quickly ...        143   \n",
              "\n",
              "       num_of_characters  num_of_characters_no_space  \n",
              "0                   1290                        1049  \n",
              "1                    279                         223  \n",
              "2                   4672                        3824  \n",
              "3                    636                         506  \n",
              "4                    545                         441  \n",
              "...                  ...                         ...  \n",
              "24995               1446                        1160  \n",
              "24996                208                         165  \n",
              "24997               1875                        1518  \n",
              "24998               1430                        1158  \n",
              "24999                747                         605  \n",
              "\n",
              "[25000 rows x 6 columns]"
            ],
            "text/html": [
              "\n",
              "  <div id=\"df-41f99cd6-e8f1-4960-99e8-91c93377b083\">\n",
              "    <div class=\"colab-df-container\">\n",
              "      <div>\n",
              "<style scoped>\n",
              "    .dataframe tbody tr th:only-of-type {\n",
              "        vertical-align: middle;\n",
              "    }\n",
              "\n",
              "    .dataframe tbody tr th {\n",
              "        vertical-align: top;\n",
              "    }\n",
              "\n",
              "    .dataframe thead th {\n",
              "        text-align: right;\n",
              "    }\n",
              "</style>\n",
              "<table border=\"1\" class=\"dataframe\">\n",
              "  <thead>\n",
              "    <tr style=\"text-align: right;\">\n",
              "      <th></th>\n",
              "      <th>Reviews</th>\n",
              "      <th>Labels</th>\n",
              "      <th>cleaned_text</th>\n",
              "      <th>num_words</th>\n",
              "      <th>num_of_characters</th>\n",
              "      <th>num_of_characters_no_space</th>\n",
              "    </tr>\n",
              "  </thead>\n",
              "  <tbody>\n",
              "    <tr>\n",
              "      <th>0</th>\n",
              "      <td>Ever wanted to know just how much Hollywood co...</td>\n",
              "      <td>1</td>\n",
              "      <td>Ever wanted to know just how much Hollywood co...</td>\n",
              "      <td>242</td>\n",
              "      <td>1290</td>\n",
              "      <td>1049</td>\n",
              "    </tr>\n",
              "    <tr>\n",
              "      <th>1</th>\n",
              "      <td>The movie itself was ok for the kids. But I go...</td>\n",
              "      <td>1</td>\n",
              "      <td>The movie itself was ok for the kids But I got...</td>\n",
              "      <td>57</td>\n",
              "      <td>279</td>\n",
              "      <td>223</td>\n",
              "    </tr>\n",
              "    <tr>\n",
              "      <th>2</th>\n",
              "      <td>You could stage a version of Charles Dickens' ...</td>\n",
              "      <td>1</td>\n",
              "      <td>You could stage a version of Charles Dickens A...</td>\n",
              "      <td>849</td>\n",
              "      <td>4672</td>\n",
              "      <td>3824</td>\n",
              "    </tr>\n",
              "    <tr>\n",
              "      <th>3</th>\n",
              "      <td>this was a fantastic episode. i saw a clip fro...</td>\n",
              "      <td>1</td>\n",
              "      <td>this was a fantastic episode i saw a clip from...</td>\n",
              "      <td>131</td>\n",
              "      <td>636</td>\n",
              "      <td>506</td>\n",
              "    </tr>\n",
              "    <tr>\n",
              "      <th>4</th>\n",
              "      <td>and laugh out loud funny in many scenes.&lt;br /&gt;...</td>\n",
              "      <td>1</td>\n",
              "      <td>and laugh out loud funny in many scenes The mo...</td>\n",
              "      <td>105</td>\n",
              "      <td>545</td>\n",
              "      <td>441</td>\n",
              "    </tr>\n",
              "    <tr>\n",
              "      <th>...</th>\n",
              "      <td>...</td>\n",
              "      <td>...</td>\n",
              "      <td>...</td>\n",
              "      <td>...</td>\n",
              "      <td>...</td>\n",
              "      <td>...</td>\n",
              "    </tr>\n",
              "    <tr>\n",
              "      <th>24995</th>\n",
              "      <td>I really felt cheated after seeing this pictur...</td>\n",
              "      <td>0</td>\n",
              "      <td>I really felt cheated after seeing this pictur...</td>\n",
              "      <td>287</td>\n",
              "      <td>1446</td>\n",
              "      <td>1160</td>\n",
              "    </tr>\n",
              "    <tr>\n",
              "      <th>24996</th>\n",
              "      <td>Ok,so.....guy gets bitten by a bat and then tu...</td>\n",
              "      <td>0</td>\n",
              "      <td>Ok so guy gets bitten by a bat and then turns ...</td>\n",
              "      <td>44</td>\n",
              "      <td>208</td>\n",
              "      <td>165</td>\n",
              "    </tr>\n",
              "    <tr>\n",
              "      <th>24997</th>\n",
              "      <td>I am generally more willing to be open minded ...</td>\n",
              "      <td>0</td>\n",
              "      <td>I am generally more willing to be open minded ...</td>\n",
              "      <td>358</td>\n",
              "      <td>1875</td>\n",
              "      <td>1518</td>\n",
              "    </tr>\n",
              "    <tr>\n",
              "      <th>24998</th>\n",
              "      <td>What a load of rubbish.. I can't even begin to...</td>\n",
              "      <td>0</td>\n",
              "      <td>What a load of rubbish I ca n't even begin to ...</td>\n",
              "      <td>273</td>\n",
              "      <td>1430</td>\n",
              "      <td>1158</td>\n",
              "    </tr>\n",
              "    <tr>\n",
              "      <th>24999</th>\n",
              "      <td>Well, this movie started out funny but quickly...</td>\n",
              "      <td>0</td>\n",
              "      <td>Well this movie started out funny but quickly ...</td>\n",
              "      <td>143</td>\n",
              "      <td>747</td>\n",
              "      <td>605</td>\n",
              "    </tr>\n",
              "  </tbody>\n",
              "</table>\n",
              "<p>25000 rows × 6 columns</p>\n",
              "</div>\n",
              "      <button class=\"colab-df-convert\" onclick=\"convertToInteractive('df-41f99cd6-e8f1-4960-99e8-91c93377b083')\"\n",
              "              title=\"Convert this dataframe to an interactive table.\"\n",
              "              style=\"display:none;\">\n",
              "        \n",
              "  <svg xmlns=\"http://www.w3.org/2000/svg\" height=\"24px\"viewBox=\"0 0 24 24\"\n",
              "       width=\"24px\">\n",
              "    <path d=\"M0 0h24v24H0V0z\" fill=\"none\"/>\n",
              "    <path d=\"M18.56 5.44l.94 2.06.94-2.06 2.06-.94-2.06-.94-.94-2.06-.94 2.06-2.06.94zm-11 1L8.5 8.5l.94-2.06 2.06-.94-2.06-.94L8.5 2.5l-.94 2.06-2.06.94zm10 10l.94 2.06.94-2.06 2.06-.94-2.06-.94-.94-2.06-.94 2.06-2.06.94z\"/><path d=\"M17.41 7.96l-1.37-1.37c-.4-.4-.92-.59-1.43-.59-.52 0-1.04.2-1.43.59L10.3 9.45l-7.72 7.72c-.78.78-.78 2.05 0 2.83L4 21.41c.39.39.9.59 1.41.59.51 0 1.02-.2 1.41-.59l7.78-7.78 2.81-2.81c.8-.78.8-2.07 0-2.86zM5.41 20L4 18.59l7.72-7.72 1.47 1.35L5.41 20z\"/>\n",
              "  </svg>\n",
              "      </button>\n",
              "      \n",
              "  <style>\n",
              "    .colab-df-container {\n",
              "      display:flex;\n",
              "      flex-wrap:wrap;\n",
              "      gap: 12px;\n",
              "    }\n",
              "\n",
              "    .colab-df-convert {\n",
              "      background-color: #E8F0FE;\n",
              "      border: none;\n",
              "      border-radius: 50%;\n",
              "      cursor: pointer;\n",
              "      display: none;\n",
              "      fill: #1967D2;\n",
              "      height: 32px;\n",
              "      padding: 0 0 0 0;\n",
              "      width: 32px;\n",
              "    }\n",
              "\n",
              "    .colab-df-convert:hover {\n",
              "      background-color: #E2EBFA;\n",
              "      box-shadow: 0px 1px 2px rgba(60, 64, 67, 0.3), 0px 1px 3px 1px rgba(60, 64, 67, 0.15);\n",
              "      fill: #174EA6;\n",
              "    }\n",
              "\n",
              "    [theme=dark] .colab-df-convert {\n",
              "      background-color: #3B4455;\n",
              "      fill: #D2E3FC;\n",
              "    }\n",
              "\n",
              "    [theme=dark] .colab-df-convert:hover {\n",
              "      background-color: #434B5C;\n",
              "      box-shadow: 0px 1px 3px 1px rgba(0, 0, 0, 0.15);\n",
              "      filter: drop-shadow(0px 1px 2px rgba(0, 0, 0, 0.3));\n",
              "      fill: #FFFFFF;\n",
              "    }\n",
              "  </style>\n",
              "\n",
              "      <script>\n",
              "        const buttonEl =\n",
              "          document.querySelector('#df-41f99cd6-e8f1-4960-99e8-91c93377b083 button.colab-df-convert');\n",
              "        buttonEl.style.display =\n",
              "          google.colab.kernel.accessAllowed ? 'block' : 'none';\n",
              "\n",
              "        async function convertToInteractive(key) {\n",
              "          const element = document.querySelector('#df-41f99cd6-e8f1-4960-99e8-91c93377b083');\n",
              "          const dataTable =\n",
              "            await google.colab.kernel.invokeFunction('convertToInteractive',\n",
              "                                                     [key], {});\n",
              "          if (!dataTable) return;\n",
              "\n",
              "          const docLinkHtml = 'Like what you see? Visit the ' +\n",
              "            '<a target=\"_blank\" href=https://colab.research.google.com/notebooks/data_table.ipynb>data table notebook</a>'\n",
              "            + ' to learn more about interactive tables.';\n",
              "          element.innerHTML = '';\n",
              "          dataTable['output_type'] = 'display_data';\n",
              "          await google.colab.output.renderOutput(dataTable, element);\n",
              "          const docLink = document.createElement('div');\n",
              "          docLink.innerHTML = docLinkHtml;\n",
              "          element.appendChild(docLink);\n",
              "        }\n",
              "      </script>\n",
              "    </div>\n",
              "  </div>\n",
              "  "
            ]
          },
          "metadata": {},
          "execution_count": 82
        }
      ]
    },
    {
      "cell_type": "code",
      "source": [
        "data['average_word_length']=data['cleaned_text'].apply(lambda x : np.mean([len(p) for p in x.split()]))"
      ],
      "metadata": {
        "id": "JGMBBh0fDa6i"
      },
      "execution_count": 91,
      "outputs": []
    },
    {
      "cell_type": "code",
      "source": [
        "data"
      ],
      "metadata": {
        "colab": {
          "base_uri": "https://localhost:8080/",
          "height": 659
        },
        "id": "aV0X0Ff6Epaz",
        "outputId": "e6588114-5752-463a-98e3-1734bd548016"
      },
      "execution_count": 92,
      "outputs": [
        {
          "output_type": "execute_result",
          "data": {
            "text/plain": [
              "                                                 Reviews  Labels  \\\n",
              "0      Ever wanted to know just how much Hollywood co...       1   \n",
              "1      The movie itself was ok for the kids. But I go...       1   \n",
              "2      You could stage a version of Charles Dickens' ...       1   \n",
              "3      this was a fantastic episode. i saw a clip fro...       1   \n",
              "4      and laugh out loud funny in many scenes.<br />...       1   \n",
              "...                                                  ...     ...   \n",
              "24995  I really felt cheated after seeing this pictur...       0   \n",
              "24996  Ok,so.....guy gets bitten by a bat and then tu...       0   \n",
              "24997  I am generally more willing to be open minded ...       0   \n",
              "24998  What a load of rubbish.. I can't even begin to...       0   \n",
              "24999  Well, this movie started out funny but quickly...       0   \n",
              "\n",
              "                                            cleaned_text  num_words  \\\n",
              "0      Ever wanted to know just how much Hollywood co...        242   \n",
              "1      The movie itself was ok for the kids But I got...         57   \n",
              "2      You could stage a version of Charles Dickens A...        849   \n",
              "3      this was a fantastic episode i saw a clip from...        131   \n",
              "4      and laugh out loud funny in many scenes The mo...        105   \n",
              "...                                                  ...        ...   \n",
              "24995  I really felt cheated after seeing this pictur...        287   \n",
              "24996  Ok so guy gets bitten by a bat and then turns ...         44   \n",
              "24997  I am generally more willing to be open minded ...        358   \n",
              "24998  What a load of rubbish I ca n't even begin to ...        273   \n",
              "24999  Well this movie started out funny but quickly ...        143   \n",
              "\n",
              "       num_of_characters  num_of_characters_no_space  average_word_length  \n",
              "0                   1290                        1049             4.334711  \n",
              "1                    279                         223             3.912281  \n",
              "2                   4672                        3824             4.504122  \n",
              "3                    636                         506             3.862595  \n",
              "4                    545                         441             4.200000  \n",
              "...                  ...                         ...                  ...  \n",
              "24995               1446                        1160             4.041812  \n",
              "24996                208                         165             3.750000  \n",
              "24997               1875                        1518             4.240223  \n",
              "24998               1430                        1158             4.241758  \n",
              "24999                747                         605             4.230769  \n",
              "\n",
              "[25000 rows x 7 columns]"
            ],
            "text/html": [
              "\n",
              "  <div id=\"df-5f8faa00-93ee-45b8-8734-82af23ff212b\">\n",
              "    <div class=\"colab-df-container\">\n",
              "      <div>\n",
              "<style scoped>\n",
              "    .dataframe tbody tr th:only-of-type {\n",
              "        vertical-align: middle;\n",
              "    }\n",
              "\n",
              "    .dataframe tbody tr th {\n",
              "        vertical-align: top;\n",
              "    }\n",
              "\n",
              "    .dataframe thead th {\n",
              "        text-align: right;\n",
              "    }\n",
              "</style>\n",
              "<table border=\"1\" class=\"dataframe\">\n",
              "  <thead>\n",
              "    <tr style=\"text-align: right;\">\n",
              "      <th></th>\n",
              "      <th>Reviews</th>\n",
              "      <th>Labels</th>\n",
              "      <th>cleaned_text</th>\n",
              "      <th>num_words</th>\n",
              "      <th>num_of_characters</th>\n",
              "      <th>num_of_characters_no_space</th>\n",
              "      <th>average_word_length</th>\n",
              "    </tr>\n",
              "  </thead>\n",
              "  <tbody>\n",
              "    <tr>\n",
              "      <th>0</th>\n",
              "      <td>Ever wanted to know just how much Hollywood co...</td>\n",
              "      <td>1</td>\n",
              "      <td>Ever wanted to know just how much Hollywood co...</td>\n",
              "      <td>242</td>\n",
              "      <td>1290</td>\n",
              "      <td>1049</td>\n",
              "      <td>4.334711</td>\n",
              "    </tr>\n",
              "    <tr>\n",
              "      <th>1</th>\n",
              "      <td>The movie itself was ok for the kids. But I go...</td>\n",
              "      <td>1</td>\n",
              "      <td>The movie itself was ok for the kids But I got...</td>\n",
              "      <td>57</td>\n",
              "      <td>279</td>\n",
              "      <td>223</td>\n",
              "      <td>3.912281</td>\n",
              "    </tr>\n",
              "    <tr>\n",
              "      <th>2</th>\n",
              "      <td>You could stage a version of Charles Dickens' ...</td>\n",
              "      <td>1</td>\n",
              "      <td>You could stage a version of Charles Dickens A...</td>\n",
              "      <td>849</td>\n",
              "      <td>4672</td>\n",
              "      <td>3824</td>\n",
              "      <td>4.504122</td>\n",
              "    </tr>\n",
              "    <tr>\n",
              "      <th>3</th>\n",
              "      <td>this was a fantastic episode. i saw a clip fro...</td>\n",
              "      <td>1</td>\n",
              "      <td>this was a fantastic episode i saw a clip from...</td>\n",
              "      <td>131</td>\n",
              "      <td>636</td>\n",
              "      <td>506</td>\n",
              "      <td>3.862595</td>\n",
              "    </tr>\n",
              "    <tr>\n",
              "      <th>4</th>\n",
              "      <td>and laugh out loud funny in many scenes.&lt;br /&gt;...</td>\n",
              "      <td>1</td>\n",
              "      <td>and laugh out loud funny in many scenes The mo...</td>\n",
              "      <td>105</td>\n",
              "      <td>545</td>\n",
              "      <td>441</td>\n",
              "      <td>4.200000</td>\n",
              "    </tr>\n",
              "    <tr>\n",
              "      <th>...</th>\n",
              "      <td>...</td>\n",
              "      <td>...</td>\n",
              "      <td>...</td>\n",
              "      <td>...</td>\n",
              "      <td>...</td>\n",
              "      <td>...</td>\n",
              "      <td>...</td>\n",
              "    </tr>\n",
              "    <tr>\n",
              "      <th>24995</th>\n",
              "      <td>I really felt cheated after seeing this pictur...</td>\n",
              "      <td>0</td>\n",
              "      <td>I really felt cheated after seeing this pictur...</td>\n",
              "      <td>287</td>\n",
              "      <td>1446</td>\n",
              "      <td>1160</td>\n",
              "      <td>4.041812</td>\n",
              "    </tr>\n",
              "    <tr>\n",
              "      <th>24996</th>\n",
              "      <td>Ok,so.....guy gets bitten by a bat and then tu...</td>\n",
              "      <td>0</td>\n",
              "      <td>Ok so guy gets bitten by a bat and then turns ...</td>\n",
              "      <td>44</td>\n",
              "      <td>208</td>\n",
              "      <td>165</td>\n",
              "      <td>3.750000</td>\n",
              "    </tr>\n",
              "    <tr>\n",
              "      <th>24997</th>\n",
              "      <td>I am generally more willing to be open minded ...</td>\n",
              "      <td>0</td>\n",
              "      <td>I am generally more willing to be open minded ...</td>\n",
              "      <td>358</td>\n",
              "      <td>1875</td>\n",
              "      <td>1518</td>\n",
              "      <td>4.240223</td>\n",
              "    </tr>\n",
              "    <tr>\n",
              "      <th>24998</th>\n",
              "      <td>What a load of rubbish.. I can't even begin to...</td>\n",
              "      <td>0</td>\n",
              "      <td>What a load of rubbish I ca n't even begin to ...</td>\n",
              "      <td>273</td>\n",
              "      <td>1430</td>\n",
              "      <td>1158</td>\n",
              "      <td>4.241758</td>\n",
              "    </tr>\n",
              "    <tr>\n",
              "      <th>24999</th>\n",
              "      <td>Well, this movie started out funny but quickly...</td>\n",
              "      <td>0</td>\n",
              "      <td>Well this movie started out funny but quickly ...</td>\n",
              "      <td>143</td>\n",
              "      <td>747</td>\n",
              "      <td>605</td>\n",
              "      <td>4.230769</td>\n",
              "    </tr>\n",
              "  </tbody>\n",
              "</table>\n",
              "<p>25000 rows × 7 columns</p>\n",
              "</div>\n",
              "      <button class=\"colab-df-convert\" onclick=\"convertToInteractive('df-5f8faa00-93ee-45b8-8734-82af23ff212b')\"\n",
              "              title=\"Convert this dataframe to an interactive table.\"\n",
              "              style=\"display:none;\">\n",
              "        \n",
              "  <svg xmlns=\"http://www.w3.org/2000/svg\" height=\"24px\"viewBox=\"0 0 24 24\"\n",
              "       width=\"24px\">\n",
              "    <path d=\"M0 0h24v24H0V0z\" fill=\"none\"/>\n",
              "    <path d=\"M18.56 5.44l.94 2.06.94-2.06 2.06-.94-2.06-.94-.94-2.06-.94 2.06-2.06.94zm-11 1L8.5 8.5l.94-2.06 2.06-.94-2.06-.94L8.5 2.5l-.94 2.06-2.06.94zm10 10l.94 2.06.94-2.06 2.06-.94-2.06-.94-.94-2.06-.94 2.06-2.06.94z\"/><path d=\"M17.41 7.96l-1.37-1.37c-.4-.4-.92-.59-1.43-.59-.52 0-1.04.2-1.43.59L10.3 9.45l-7.72 7.72c-.78.78-.78 2.05 0 2.83L4 21.41c.39.39.9.59 1.41.59.51 0 1.02-.2 1.41-.59l7.78-7.78 2.81-2.81c.8-.78.8-2.07 0-2.86zM5.41 20L4 18.59l7.72-7.72 1.47 1.35L5.41 20z\"/>\n",
              "  </svg>\n",
              "      </button>\n",
              "      \n",
              "  <style>\n",
              "    .colab-df-container {\n",
              "      display:flex;\n",
              "      flex-wrap:wrap;\n",
              "      gap: 12px;\n",
              "    }\n",
              "\n",
              "    .colab-df-convert {\n",
              "      background-color: #E8F0FE;\n",
              "      border: none;\n",
              "      border-radius: 50%;\n",
              "      cursor: pointer;\n",
              "      display: none;\n",
              "      fill: #1967D2;\n",
              "      height: 32px;\n",
              "      padding: 0 0 0 0;\n",
              "      width: 32px;\n",
              "    }\n",
              "\n",
              "    .colab-df-convert:hover {\n",
              "      background-color: #E2EBFA;\n",
              "      box-shadow: 0px 1px 2px rgba(60, 64, 67, 0.3), 0px 1px 3px 1px rgba(60, 64, 67, 0.15);\n",
              "      fill: #174EA6;\n",
              "    }\n",
              "\n",
              "    [theme=dark] .colab-df-convert {\n",
              "      background-color: #3B4455;\n",
              "      fill: #D2E3FC;\n",
              "    }\n",
              "\n",
              "    [theme=dark] .colab-df-convert:hover {\n",
              "      background-color: #434B5C;\n",
              "      box-shadow: 0px 1px 3px 1px rgba(0, 0, 0, 0.15);\n",
              "      filter: drop-shadow(0px 1px 2px rgba(0, 0, 0, 0.3));\n",
              "      fill: #FFFFFF;\n",
              "    }\n",
              "  </style>\n",
              "\n",
              "      <script>\n",
              "        const buttonEl =\n",
              "          document.querySelector('#df-5f8faa00-93ee-45b8-8734-82af23ff212b button.colab-df-convert');\n",
              "        buttonEl.style.display =\n",
              "          google.colab.kernel.accessAllowed ? 'block' : 'none';\n",
              "\n",
              "        async function convertToInteractive(key) {\n",
              "          const element = document.querySelector('#df-5f8faa00-93ee-45b8-8734-82af23ff212b');\n",
              "          const dataTable =\n",
              "            await google.colab.kernel.invokeFunction('convertToInteractive',\n",
              "                                                     [key], {});\n",
              "          if (!dataTable) return;\n",
              "\n",
              "          const docLinkHtml = 'Like what you see? Visit the ' +\n",
              "            '<a target=\"_blank\" href=https://colab.research.google.com/notebooks/data_table.ipynb>data table notebook</a>'\n",
              "            + ' to learn more about interactive tables.';\n",
              "          element.innerHTML = '';\n",
              "          dataTable['output_type'] = 'display_data';\n",
              "          await google.colab.output.renderOutput(dataTable, element);\n",
              "          const docLink = document.createElement('div');\n",
              "          docLink.innerHTML = docLinkHtml;\n",
              "          element.appendChild(docLink);\n",
              "        }\n",
              "      </script>\n",
              "    </div>\n",
              "  </div>\n",
              "  "
            ]
          },
          "metadata": {},
          "execution_count": 92
        }
      ]
    },
    {
      "cell_type": "code",
      "source": [],
      "metadata": {
        "id": "ZsCMxi2fJ1lx"
      },
      "execution_count": null,
      "outputs": []
    },
    {
      "cell_type": "code",
      "source": [
        "def Digit_Count(text):\n",
        "  doc=nlp(text)\n",
        "\n",
        "  return sum([token.is_digit for token in doc])"
      ],
      "metadata": {
        "id": "QnMj9nKQGAGc"
      },
      "execution_count": 93,
      "outputs": []
    },
    {
      "cell_type": "code",
      "source": [
        "data['no_of_digits']=data['cleaned_text'].apply(lambda x: Digit_Count(x))  "
      ],
      "metadata": {
        "id": "c4NzCRFYF_5Q"
      },
      "execution_count": 94,
      "outputs": []
    },
    {
      "cell_type": "code",
      "source": [
        "data "
      ],
      "metadata": {
        "colab": {
          "base_uri": "https://localhost:8080/",
          "height": 884
        },
        "id": "WUB8uD0mqFEH",
        "outputId": "3ab08f2f-254e-4f08-ac93-6fe5ca966ede"
      },
      "execution_count": 95,
      "outputs": [
        {
          "output_type": "execute_result",
          "data": {
            "text/plain": [
              "                                                 Reviews  Labels  \\\n",
              "0      Ever wanted to know just how much Hollywood co...       1   \n",
              "1      The movie itself was ok for the kids. But I go...       1   \n",
              "2      You could stage a version of Charles Dickens' ...       1   \n",
              "3      this was a fantastic episode. i saw a clip fro...       1   \n",
              "4      and laugh out loud funny in many scenes.<br />...       1   \n",
              "...                                                  ...     ...   \n",
              "24995  I really felt cheated after seeing this pictur...       0   \n",
              "24996  Ok,so.....guy gets bitten by a bat and then tu...       0   \n",
              "24997  I am generally more willing to be open minded ...       0   \n",
              "24998  What a load of rubbish.. I can't even begin to...       0   \n",
              "24999  Well, this movie started out funny but quickly...       0   \n",
              "\n",
              "                                            cleaned_text  num_words  \\\n",
              "0      Ever wanted to know just how much Hollywood co...        242   \n",
              "1      The movie itself was ok for the kids But I got...         57   \n",
              "2      You could stage a version of Charles Dickens A...        849   \n",
              "3      this was a fantastic episode i saw a clip from...        131   \n",
              "4      and laugh out loud funny in many scenes The mo...        105   \n",
              "...                                                  ...        ...   \n",
              "24995  I really felt cheated after seeing this pictur...        287   \n",
              "24996  Ok so guy gets bitten by a bat and then turns ...         44   \n",
              "24997  I am generally more willing to be open minded ...        358   \n",
              "24998  What a load of rubbish I ca n't even begin to ...        273   \n",
              "24999  Well this movie started out funny but quickly ...        143   \n",
              "\n",
              "       num_of_characters  num_of_characters_no_space  average_word_length  \\\n",
              "0                   1290                        1049             4.334711   \n",
              "1                    279                         223             3.912281   \n",
              "2                   4672                        3824             4.504122   \n",
              "3                    636                         506             3.862595   \n",
              "4                    545                         441             4.200000   \n",
              "...                  ...                         ...                  ...   \n",
              "24995               1446                        1160             4.041812   \n",
              "24996                208                         165             3.750000   \n",
              "24997               1875                        1518             4.240223   \n",
              "24998               1430                        1158             4.241758   \n",
              "24999                747                         605             4.230769   \n",
              "\n",
              "       no_of_digits  \n",
              "0                 1  \n",
              "1                 0  \n",
              "2                 1  \n",
              "3                 0  \n",
              "4                 0  \n",
              "...             ...  \n",
              "24995             5  \n",
              "24996             0  \n",
              "24997             1  \n",
              "24998             3  \n",
              "24999             0  \n",
              "\n",
              "[25000 rows x 8 columns]"
            ],
            "text/html": [
              "\n",
              "  <div id=\"df-1e8a57b8-fe2f-41e5-88b2-f7ff9ec8d1a5\">\n",
              "    <div class=\"colab-df-container\">\n",
              "      <div>\n",
              "<style scoped>\n",
              "    .dataframe tbody tr th:only-of-type {\n",
              "        vertical-align: middle;\n",
              "    }\n",
              "\n",
              "    .dataframe tbody tr th {\n",
              "        vertical-align: top;\n",
              "    }\n",
              "\n",
              "    .dataframe thead th {\n",
              "        text-align: right;\n",
              "    }\n",
              "</style>\n",
              "<table border=\"1\" class=\"dataframe\">\n",
              "  <thead>\n",
              "    <tr style=\"text-align: right;\">\n",
              "      <th></th>\n",
              "      <th>Reviews</th>\n",
              "      <th>Labels</th>\n",
              "      <th>cleaned_text</th>\n",
              "      <th>num_words</th>\n",
              "      <th>num_of_characters</th>\n",
              "      <th>num_of_characters_no_space</th>\n",
              "      <th>average_word_length</th>\n",
              "      <th>no_of_digits</th>\n",
              "    </tr>\n",
              "  </thead>\n",
              "  <tbody>\n",
              "    <tr>\n",
              "      <th>0</th>\n",
              "      <td>Ever wanted to know just how much Hollywood co...</td>\n",
              "      <td>1</td>\n",
              "      <td>Ever wanted to know just how much Hollywood co...</td>\n",
              "      <td>242</td>\n",
              "      <td>1290</td>\n",
              "      <td>1049</td>\n",
              "      <td>4.334711</td>\n",
              "      <td>1</td>\n",
              "    </tr>\n",
              "    <tr>\n",
              "      <th>1</th>\n",
              "      <td>The movie itself was ok for the kids. But I go...</td>\n",
              "      <td>1</td>\n",
              "      <td>The movie itself was ok for the kids But I got...</td>\n",
              "      <td>57</td>\n",
              "      <td>279</td>\n",
              "      <td>223</td>\n",
              "      <td>3.912281</td>\n",
              "      <td>0</td>\n",
              "    </tr>\n",
              "    <tr>\n",
              "      <th>2</th>\n",
              "      <td>You could stage a version of Charles Dickens' ...</td>\n",
              "      <td>1</td>\n",
              "      <td>You could stage a version of Charles Dickens A...</td>\n",
              "      <td>849</td>\n",
              "      <td>4672</td>\n",
              "      <td>3824</td>\n",
              "      <td>4.504122</td>\n",
              "      <td>1</td>\n",
              "    </tr>\n",
              "    <tr>\n",
              "      <th>3</th>\n",
              "      <td>this was a fantastic episode. i saw a clip fro...</td>\n",
              "      <td>1</td>\n",
              "      <td>this was a fantastic episode i saw a clip from...</td>\n",
              "      <td>131</td>\n",
              "      <td>636</td>\n",
              "      <td>506</td>\n",
              "      <td>3.862595</td>\n",
              "      <td>0</td>\n",
              "    </tr>\n",
              "    <tr>\n",
              "      <th>4</th>\n",
              "      <td>and laugh out loud funny in many scenes.&lt;br /&gt;...</td>\n",
              "      <td>1</td>\n",
              "      <td>and laugh out loud funny in many scenes The mo...</td>\n",
              "      <td>105</td>\n",
              "      <td>545</td>\n",
              "      <td>441</td>\n",
              "      <td>4.200000</td>\n",
              "      <td>0</td>\n",
              "    </tr>\n",
              "    <tr>\n",
              "      <th>...</th>\n",
              "      <td>...</td>\n",
              "      <td>...</td>\n",
              "      <td>...</td>\n",
              "      <td>...</td>\n",
              "      <td>...</td>\n",
              "      <td>...</td>\n",
              "      <td>...</td>\n",
              "      <td>...</td>\n",
              "    </tr>\n",
              "    <tr>\n",
              "      <th>24995</th>\n",
              "      <td>I really felt cheated after seeing this pictur...</td>\n",
              "      <td>0</td>\n",
              "      <td>I really felt cheated after seeing this pictur...</td>\n",
              "      <td>287</td>\n",
              "      <td>1446</td>\n",
              "      <td>1160</td>\n",
              "      <td>4.041812</td>\n",
              "      <td>5</td>\n",
              "    </tr>\n",
              "    <tr>\n",
              "      <th>24996</th>\n",
              "      <td>Ok,so.....guy gets bitten by a bat and then tu...</td>\n",
              "      <td>0</td>\n",
              "      <td>Ok so guy gets bitten by a bat and then turns ...</td>\n",
              "      <td>44</td>\n",
              "      <td>208</td>\n",
              "      <td>165</td>\n",
              "      <td>3.750000</td>\n",
              "      <td>0</td>\n",
              "    </tr>\n",
              "    <tr>\n",
              "      <th>24997</th>\n",
              "      <td>I am generally more willing to be open minded ...</td>\n",
              "      <td>0</td>\n",
              "      <td>I am generally more willing to be open minded ...</td>\n",
              "      <td>358</td>\n",
              "      <td>1875</td>\n",
              "      <td>1518</td>\n",
              "      <td>4.240223</td>\n",
              "      <td>1</td>\n",
              "    </tr>\n",
              "    <tr>\n",
              "      <th>24998</th>\n",
              "      <td>What a load of rubbish.. I can't even begin to...</td>\n",
              "      <td>0</td>\n",
              "      <td>What a load of rubbish I ca n't even begin to ...</td>\n",
              "      <td>273</td>\n",
              "      <td>1430</td>\n",
              "      <td>1158</td>\n",
              "      <td>4.241758</td>\n",
              "      <td>3</td>\n",
              "    </tr>\n",
              "    <tr>\n",
              "      <th>24999</th>\n",
              "      <td>Well, this movie started out funny but quickly...</td>\n",
              "      <td>0</td>\n",
              "      <td>Well this movie started out funny but quickly ...</td>\n",
              "      <td>143</td>\n",
              "      <td>747</td>\n",
              "      <td>605</td>\n",
              "      <td>4.230769</td>\n",
              "      <td>0</td>\n",
              "    </tr>\n",
              "  </tbody>\n",
              "</table>\n",
              "<p>25000 rows × 8 columns</p>\n",
              "</div>\n",
              "      <button class=\"colab-df-convert\" onclick=\"convertToInteractive('df-1e8a57b8-fe2f-41e5-88b2-f7ff9ec8d1a5')\"\n",
              "              title=\"Convert this dataframe to an interactive table.\"\n",
              "              style=\"display:none;\">\n",
              "        \n",
              "  <svg xmlns=\"http://www.w3.org/2000/svg\" height=\"24px\"viewBox=\"0 0 24 24\"\n",
              "       width=\"24px\">\n",
              "    <path d=\"M0 0h24v24H0V0z\" fill=\"none\"/>\n",
              "    <path d=\"M18.56 5.44l.94 2.06.94-2.06 2.06-.94-2.06-.94-.94-2.06-.94 2.06-2.06.94zm-11 1L8.5 8.5l.94-2.06 2.06-.94-2.06-.94L8.5 2.5l-.94 2.06-2.06.94zm10 10l.94 2.06.94-2.06 2.06-.94-2.06-.94-.94-2.06-.94 2.06-2.06.94z\"/><path d=\"M17.41 7.96l-1.37-1.37c-.4-.4-.92-.59-1.43-.59-.52 0-1.04.2-1.43.59L10.3 9.45l-7.72 7.72c-.78.78-.78 2.05 0 2.83L4 21.41c.39.39.9.59 1.41.59.51 0 1.02-.2 1.41-.59l7.78-7.78 2.81-2.81c.8-.78.8-2.07 0-2.86zM5.41 20L4 18.59l7.72-7.72 1.47 1.35L5.41 20z\"/>\n",
              "  </svg>\n",
              "      </button>\n",
              "      \n",
              "  <style>\n",
              "    .colab-df-container {\n",
              "      display:flex;\n",
              "      flex-wrap:wrap;\n",
              "      gap: 12px;\n",
              "    }\n",
              "\n",
              "    .colab-df-convert {\n",
              "      background-color: #E8F0FE;\n",
              "      border: none;\n",
              "      border-radius: 50%;\n",
              "      cursor: pointer;\n",
              "      display: none;\n",
              "      fill: #1967D2;\n",
              "      height: 32px;\n",
              "      padding: 0 0 0 0;\n",
              "      width: 32px;\n",
              "    }\n",
              "\n",
              "    .colab-df-convert:hover {\n",
              "      background-color: #E2EBFA;\n",
              "      box-shadow: 0px 1px 2px rgba(60, 64, 67, 0.3), 0px 1px 3px 1px rgba(60, 64, 67, 0.15);\n",
              "      fill: #174EA6;\n",
              "    }\n",
              "\n",
              "    [theme=dark] .colab-df-convert {\n",
              "      background-color: #3B4455;\n",
              "      fill: #D2E3FC;\n",
              "    }\n",
              "\n",
              "    [theme=dark] .colab-df-convert:hover {\n",
              "      background-color: #434B5C;\n",
              "      box-shadow: 0px 1px 3px 1px rgba(0, 0, 0, 0.15);\n",
              "      filter: drop-shadow(0px 1px 2px rgba(0, 0, 0, 0.3));\n",
              "      fill: #FFFFFF;\n",
              "    }\n",
              "  </style>\n",
              "\n",
              "      <script>\n",
              "        const buttonEl =\n",
              "          document.querySelector('#df-1e8a57b8-fe2f-41e5-88b2-f7ff9ec8d1a5 button.colab-df-convert');\n",
              "        buttonEl.style.display =\n",
              "          google.colab.kernel.accessAllowed ? 'block' : 'none';\n",
              "\n",
              "        async function convertToInteractive(key) {\n",
              "          const element = document.querySelector('#df-1e8a57b8-fe2f-41e5-88b2-f7ff9ec8d1a5');\n",
              "          const dataTable =\n",
              "            await google.colab.kernel.invokeFunction('convertToInteractive',\n",
              "                                                     [key], {});\n",
              "          if (!dataTable) return;\n",
              "\n",
              "          const docLinkHtml = 'Like what you see? Visit the ' +\n",
              "            '<a target=\"_blank\" href=https://colab.research.google.com/notebooks/data_table.ipynb>data table notebook</a>'\n",
              "            + ' to learn more about interactive tables.';\n",
              "          element.innerHTML = '';\n",
              "          dataTable['output_type'] = 'display_data';\n",
              "          await google.colab.output.renderOutput(dataTable, element);\n",
              "          const docLink = document.createElement('div');\n",
              "          docLink.innerHTML = docLinkHtml;\n",
              "          element.appendChild(docLink);\n",
              "        }\n",
              "      </script>\n",
              "    </div>\n",
              "  </div>\n",
              "  "
            ]
          },
          "metadata": {},
          "execution_count": 95
        }
      ]
    }
  ],
  "metadata": {
    "colab": {
      "collapsed_sections": [],
      "provenance": [],
      "machine_shape": "hm"
    },
    "kernelspec": {
      "display_name": "Python 3 (ipykernel)",
      "language": "python",
      "name": "python3"
    },
    "language_info": {
      "codemirror_mode": {
        "name": "ipython",
        "version": 3
      },
      "file_extension": ".py",
      "mimetype": "text/x-python",
      "name": "python",
      "nbconvert_exporter": "python",
      "pygments_lexer": "ipython3",
      "version": "3.8.12"
    },
    "gpuClass": "standard"
  },
  "nbformat": 4,
  "nbformat_minor": 0
}